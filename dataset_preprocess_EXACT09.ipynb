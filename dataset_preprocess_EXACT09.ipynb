{
 "cells": [
  {
   "attachments": {},
   "cell_type": "markdown",
   "id": "f8a046af",
   "metadata": {},
   "source": [
    "# Pre-process EXACT09"
   ]
  },
  {
   "cell_type": "code",
   "execution_count": 1,
   "id": "451ac4f8",
   "metadata": {},
   "outputs": [],
   "source": [
    "import os\n",
    "import numpy as np\n",
    "import SimpleITK as sitk\n",
    "from PIL import Image\n",
    "import pydicom\n",
    "import cv2\n",
    "import nibabel as nib"
   ]
  },
  {
   "attachments": {},
   "cell_type": "markdown",
   "id": "d400cfe0",
   "metadata": {},
   "source": [
    "### get dict of img path"
   ]
  },
  {
   "cell_type": "code",
   "execution_count": 2,
   "id": "0f32d525",
   "metadata": {},
   "outputs": [],
   "source": [
    "raw_train_file_path = \"./data/Airway/EXACT09/Training\"\n",
    "raw_test_file_path = \"./data/Airway/EXACT09/Testing\""
   ]
  },
  {
   "attachments": {},
   "cell_type": "markdown",
   "id": "66219861",
   "metadata": {},
   "source": [
    "The file structure should be like this\\\n",
    "\n",
    "\\\n",
    "/data/Airway/EXACT09\\\n",
    "    /Training\\\n",
    "        /CASE01\\\n",
    "            /1093782\\\n",
    "            /1093783\\\n",
    "            ...\\\n",
    "        /CASE02\\\n",
    "        ...\\\n",
    "    /Testing\\\n",
    "        /CASE21\\\n",
    "        ...\n"
   ]
  },
  {
   "cell_type": "code",
   "execution_count": 5,
   "id": "b7a0ff15",
   "metadata": {},
   "outputs": [],
   "source": [
    "train_case_dict = dict()\n",
    "test_case_dict = dict()\n",
    "\n",
    "train_case_names=os.listdir(raw_train_file_path)\n",
    "train_case_names.sort()\n",
    "\n",
    "test_case_names=os.listdir(raw_test_file_path)\n",
    "test_case_names.sort()\n",
    "\n",
    "for case_name in train_case_names:\n",
    "    imgs=os.listdir(raw_train_file_path+\"/\"+case_name)\n",
    "    imgs.sort()\n",
    "    img_path_list = []\n",
    "    for img in imgs:\n",
    "        img_path_list.append(raw_train_file_path+\"/\"+case_name+\"/\"+img)\n",
    "    train_case_dict[case_name]=img_path_list\n",
    "\n",
    "for case_name in test_case_names:\n",
    "    imgs=os.listdir(raw_test_file_path+\"/\"+case_name)\n",
    "    imgs.sort()\n",
    "    img_path_list = []\n",
    "    for img in imgs:\n",
    "        img_path_list.append(raw_test_file_path+\"/\"+case_name+\"/\"+img)\n",
    "    test_case_dict[case_name]=img_path_list"
   ]
  },
  {
   "cell_type": "code",
   "execution_count": 4,
   "id": "ff7ad4c9",
   "metadata": {},
   "outputs": [
    {
     "name": "stdout",
     "output_type": "stream",
     "text": [
      "CASE21\n",
      "(0028, 0030) Pixel Spacing                       DS: [0.6015625, 0.6015625]\n",
      "----------\n",
      "CASE22\n",
      "(0028, 0030) Pixel Spacing                       DS: [0.6015625, 0.6015625]\n",
      "----------\n",
      "CASE23\n",
      "(0028, 0030) Pixel Spacing                       DS: [0.595703125, 0.595703125]\n",
      "----------\n",
      "CASE24\n",
      "(0028, 0030) Pixel Spacing                       DS: [0.652000, 0.652000]\n",
      "----------\n",
      "CASE25\n",
      "(0028, 0030) Pixel Spacing                       DS: [0.652000, 0.652000]\n",
      "----------\n",
      "CASE26\n",
      "(0028, 0030) Pixel Spacing                       DS: [0.690000, 0.690000]\n",
      "----------\n",
      "CASE27\n",
      "(0028, 0030) Pixel Spacing                       DS: [0.690000, 0.690000]\n",
      "----------\n",
      "CASE28\n",
      "(0028, 0030) Pixel Spacing                       DS: [0.65625, 0.65625]\n",
      "----------\n",
      "CASE29\n",
      "(0028, 0030) Pixel Spacing                       DS: [0.65625, 0.65625]\n",
      "----------\n",
      "CASE30\n",
      "(0028, 0030) Pixel Spacing                       DS: [0.781250, 0.781250]\n",
      "----------\n",
      "CASE31\n",
      "(0028, 0030) Pixel Spacing                       DS: [0.781250, 0.781250]\n",
      "----------\n",
      "CASE32\n",
      "(0028, 0030) Pixel Spacing                       DS: [0.781250, 0.781250]\n",
      "----------\n",
      "CASE33\n",
      "(0028, 0030) Pixel Spacing                       DS: [0.5546875, 0.5546875]\n",
      "----------\n",
      "CASE34\n",
      "(0028, 0030) Pixel Spacing                       DS: [0.5859375, 0.5859375]\n",
      "----------\n",
      "CASE35\n",
      "(0028, 0030) Pixel Spacing                       DS: [0.683594, 0.683594]\n",
      "----------\n",
      "CASE36\n",
      "(0028, 0030) Pixel Spacing                       DS: [0.5859375, 0.5859375]\n",
      "----------\n",
      "CASE37\n",
      "(0028, 0030) Pixel Spacing                       DS: [0.736328125, 0.736328125]\n",
      "----------\n",
      "CASE38\n",
      "(0028, 0030) Pixel Spacing                       DS: [0.71875, 0.71875]\n",
      "----------\n",
      "CASE39\n",
      "(0028, 0030) Pixel Spacing                       DS: [0.599609375, 0.599609375]\n",
      "----------\n",
      "CASE40\n",
      "(0028, 0030) Pixel Spacing                       DS: [0.7421875, 0.7421875]\n",
      "----------\n"
     ]
    }
   ],
   "source": [
    "for case in test_case_dict.keys():\n",
    "    print(case, end=\"\\n\")\n",
    "    dicom_file = pydicom.dcmread(test_case_dict[case][0])\n",
    "    keys = list(dicom_file.keys())\n",
    "    for idx, key in enumerate(keys):\n",
    "        if str(key) == \"(0028, 0030)\":\n",
    "            i = idx\n",
    "            break\n",
    "    print(dicom_file[list(dicom_file.keys())[i]])\n",
    "    print(\"----------\")"
   ]
  },
  {
   "attachments": {},
   "cell_type": "markdown",
   "id": "e39e496e",
   "metadata": {},
   "source": [
    "there may be some unsorted image names..."
   ]
  },
  {
   "cell_type": "code",
   "execution_count": 5,
   "id": "4c35c529",
   "metadata": {},
   "outputs": [
    {
     "name": "stdout",
     "output_type": "stream",
     "text": [
      "CASE01 ['1093782', '1093783', '1093784', '1093785', '1093786', '1093787', '1093788']\n",
      "CASE02 ['1092606', '1092607', '1092608', '1092609', '1092610', '1092611', '1092612']\n",
      "CASE03 ['2838333', '2838334', '2838335', '2838336', '2838337', '2838338', '2838339']\n",
      "CASE04 ['Cha366_0000.DCM', 'Cha366_0001.DCM', 'Cha366_0002.DCM', 'Cha366_0003.DCM', 'Cha366_0004.DCM', 'Cha366_0005.DCM', 'Cha366_0006.DCM']\n",
      "CASE05 ['Cha366_0000.DCM', 'Cha366_0001.DCM', 'Cha366_0002.DCM', 'Cha366_0003.DCM', 'Cha366_0004.DCM', 'Cha366_0005.DCM', 'Cha366_0006.DCM']\n",
      "CASE06 ['Cha416_0000.DCM', 'Cha416_0001.DCM', 'Cha416_0002.DCM', 'Cha416_0003.DCM', 'Cha416_0004.DCM', 'Cha416_0005.DCM', 'Cha416_0006.DCM']\n",
      "CASE07 ['Cha416_0000.DCM', 'Cha416_0001.DCM', 'Cha416_0002.DCM', 'Cha416_0003.DCM', 'Cha416_0004.DCM', 'Cha416_0005.DCM', 'Cha416_0006.DCM']\n",
      "CASE08 ['export0001.dcm', 'export0002.dcm', 'export0003.dcm', 'export0004.dcm', 'export0005.dcm', 'export0006.dcm', 'export0007.dcm']\n",
      "CASE09 ['export0001.dcm', 'export0002.dcm', 'export0003.dcm', 'export0004.dcm', 'export0005.dcm', 'export0006.dcm', 'export0007.dcm']\n",
      "CASE10 ['IM1581_20050425_001', 'IM1581_20050425_002', 'IM1581_20050425_003', 'IM1581_20050425_004', 'IM1581_20050425_005', 'IM1581_20050425_006', 'IM1581_20050425_007']\n",
      "CASE11 ['IM1213_20050316_001', 'IM1213_20050316_002', 'IM1213_20050316_003', 'IM1213_20050316_004', 'IM1213_20050316_005', 'IM1213_20050316_006', 'IM1213_20050316_007']\n",
      "CASE12 ['IM912_20050127_001', 'IM912_20050127_002', 'IM912_20050127_003', 'IM912_20050127_004', 'IM912_20050127_005', 'IM912_20050127_006', 'IM912_20050127_007']\n",
      "CASE13 ['14831443', '14831445', '14831447', '14831448', '14831450', '14831452', '14831454']\n",
      "CASE14 ['5919175', '5919193', '5919211', '5919229', '5919247', '5919265', '5919283']\n",
      "CASE15 ['000000.dcm', '000001.dcm', '000002.dcm', '000003.dcm', '000004.dcm', '000005.dcm', '000006.dcm']\n",
      "CASE16 ['I100IE0', 'I101IE0', 'I102IE0', 'I103IE0', 'I104IE0', 'I105IE0', 'I106IE0']\n",
      "CASE17 ['I10', 'I100', 'I1000', 'I1010', 'I1020', 'I1030', 'I1040']\n",
      "CASE18 ['I10', 'I100', 'I1000', 'I1010', 'I1020', 'I1030', 'I1040']\n",
      "CASE19 ['00001_1.3.12.2.1107.5.1.4.54014.30000008040906142467100004409.dcm', '00002_1.3.12.2.1107.5.1.4.54014.30000008040906142467100004408.dcm', '00003_1.3.12.2.1107.5.1.4.54014.30000008040906142467100004407.dcm', '00004_1.3.12.2.1107.5.1.4.54014.30000008040906142467100004406.dcm', '00005_1.3.12.2.1107.5.1.4.54014.30000008040906142467100004405.dcm', '00006_1.3.12.2.1107.5.1.4.54014.30000008040906142467100004404.dcm', '00007_1.3.12.2.1107.5.1.4.54014.30000008040906142467100004403.dcm']\n",
      "CASE20 ['00001_1.3.12.2.1107.5.1.4.50018.30000008022607255115600012136.dcm', '00002_1.3.12.2.1107.5.1.4.50018.30000008022607255115600012137.dcm', '00003_1.3.12.2.1107.5.1.4.50018.30000008022607255115600012138.dcm', '00004_1.3.12.2.1107.5.1.4.50018.30000008022607255115600012139.dcm', '00005_1.3.12.2.1107.5.1.4.50018.30000008022607255115600012140.dcm', '00006_1.3.12.2.1107.5.1.4.50018.30000008022607255115600012141.dcm', '00007_1.3.12.2.1107.5.1.4.50018.30000008022607255115600012142.dcm']\n"
     ]
    }
   ],
   "source": [
    "for name in train_case_dict.keys():\n",
    "    print(name, [train_case_dict[name][i].split(\"/\")[-1] for i in range(7)], end=\"\\n\")"
   ]
  },
  {
   "cell_type": "code",
   "execution_count": 6,
   "id": "de0147f1",
   "metadata": {},
   "outputs": [
    {
     "name": "stdout",
     "output_type": "stream",
     "text": [
      "CASE21 ['1118603', '1118604', '1118605', '1118606', '1118607', '1118608', '1118609']\n",
      "CASE22 ['1117529', '1117530', '1117531', '1117532', '1117533', '1117534', '1117535']\n",
      "CASE23 ['3133176', '3133177', '3133178', '3133179', '3133180', '3133181', '3133182']\n",
      "CASE24 ['Cha531_0000.DCM', 'Cha531_0001.DCM', 'Cha531_0002.DCM', 'Cha531_0003.DCM', 'Cha531_0004.DCM', 'Cha531_0005.DCM', 'Cha531_0006.DCM']\n",
      "CASE25 ['Cha531_0000.DCM', 'Cha531_0001.DCM', 'Cha531_0002.DCM', 'Cha531_0003.DCM', 'Cha531_0004.DCM', 'Cha531_0005.DCM', 'Cha531_0006.DCM']\n",
      "CASE26 ['Cha351_0000.DCM', 'Cha351_0001.DCM', 'Cha351_0002.DCM', 'Cha351_0003.DCM', 'Cha351_0004.DCM', 'Cha351_0005.DCM', 'Cha351_0006.DCM']\n",
      "CASE27 ['Cha351_0000', 'Cha351_0001', 'Cha351_0002', 'Cha351_0003', 'Cha351_0004', 'Cha351_0005', 'Cha351_0006']\n",
      "CASE28 ['export0001.dcm', 'export0002.dcm', 'export0003.dcm', 'export0004.dcm', 'export0005.dcm', 'export0006.dcm', 'export0007.dcm']\n",
      "CASE29 ['export0001.dcm', 'export0002.dcm', 'export0003.dcm', 'export0004.dcm', 'export0005.dcm', 'export0006.dcm', 'export0007.dcm']\n",
      "CASE30 ['IM3462_20051114_001', 'IM3462_20051114_002', 'IM3462_20051114_003', 'IM3462_20051114_004', 'IM3462_20051114_005', 'IM3462_20051114_006', 'IM3462_20051114_007']\n",
      "CASE31 ['IM3483_20051114_001', 'IM3483_20051114_002', 'IM3483_20051114_003', 'IM3483_20051114_004', 'IM3483_20051114_005', 'IM3483_20051114_006', 'IM3483_20051114_007']\n",
      "CASE32 ['IM1907_20050606_001', 'IM1907_20050606_002', 'IM1907_20050606_003', 'IM1907_20050606_004', 'IM1907_20050606_005', 'IM1907_20050606_006', 'IM1907_20050606_007']\n",
      "CASE33 ['45031249', '45031267', '45031285', '45031303', '45031321', '45031339', '45031357']\n",
      "CASE34 ['13740106', '13740124', '13740142', '13740160', '13740178', '13740196', '13740214']\n",
      "CASE35 ['000000.dcm', '000001.dcm', '000002.dcm', '000003.dcm', '000004.dcm', '000005.dcm', '000006.dcm']\n",
      "CASE36 ['I100IE0', 'I101IE0', 'I102IE0', 'I103IE0', 'I104IE0', 'I105IE0', 'I106IE0']\n",
      "CASE37 ['I10', 'I100', 'I1000', 'I1010', 'I1020', 'I1030', 'I1040']\n",
      "CASE38 ['I10', 'I100', 'I1000', 'I1010', 'I1020', 'I1030', 'I1040']\n",
      "CASE39 ['00001_1.3.12.2.1107.5.1.4.54014.30020008101406201701500018281.dcm', '00002_1.3.12.2.1107.5.1.4.54014.30020008101406201701500018280.dcm', '00003_1.3.12.2.1107.5.1.4.54014.30020008101406201701500018279.dcm', '00004_1.3.12.2.1107.5.1.4.54014.30020008101406201701500018278.dcm', '00005_1.3.12.2.1107.5.1.4.54014.30020008101406201701500018277.dcm', '00006_1.3.12.2.1107.5.1.4.54014.30020008101406201701500018276.dcm', '00007_1.3.12.2.1107.5.1.4.54014.30020008101406201701500018275.dcm']\n",
      "CASE40 ['00001_1.3.12.2.1107.5.1.4.50018.30000008030607573559300002130.dcm', '00002_1.3.12.2.1107.5.1.4.50018.30000008030607573559300002131.dcm', '00003_1.3.12.2.1107.5.1.4.50018.30000008030607573559300002132.dcm', '00004_1.3.12.2.1107.5.1.4.50018.30000008030607573559300002133.dcm', '00005_1.3.12.2.1107.5.1.4.50018.30000008030607573559300002134.dcm', '00006_1.3.12.2.1107.5.1.4.50018.30000008030607573559300002135.dcm', '00007_1.3.12.2.1107.5.1.4.50018.30000008030607573559300002136.dcm']\n"
     ]
    }
   ],
   "source": [
    "for name in test_case_dict.keys():\n",
    "    print(name, [test_case_dict[name][i].split(\"/\")[-1] for i in range(7)], end=\"\\n\")"
   ]
  },
  {
   "attachments": {},
   "cell_type": "markdown",
   "id": "0a0299ae",
   "metadata": {},
   "source": [
    "resort the image names of some cases"
   ]
  },
  {
   "cell_type": "code",
   "execution_count": 7,
   "id": "605721cc",
   "metadata": {},
   "outputs": [],
   "source": [
    "def resort_names(case_dict, chosen_name, indicator):\n",
    "    new_path_idx_list = []\n",
    "    for path in case_dict[chosen_name]:\n",
    "        name = path.split(\"/\")[-1]\n",
    "        new_path_idx_list.append(int(name.split(indicator)[1]))\n",
    "    new_path_idx_list = np.array(new_path_idx_list)\n",
    "    locs = np.argsort(new_path_idx_list)\n",
    "\n",
    "    new_path_list = []\n",
    "    for i in locs:\n",
    "        new_path_list.append(case_dict[chosen_name][i])\n",
    "\n",
    "    case_dict[chosen_name]=new_path_list"
   ]
  },
  {
   "cell_type": "code",
   "execution_count": 8,
   "id": "5b7e338f",
   "metadata": {},
   "outputs": [],
   "source": [
    "resort_names(test_case_dict, \"CASE37\", \"I\")\n",
    "resort_names(test_case_dict, \"CASE36\", \"I\")\n",
    "resort_names(test_case_dict, \"CASE38\", \"I\")\n",
    "resort_names(train_case_dict, \"CASE16\", \"I\")\n",
    "resort_names(train_case_dict, \"CASE17\", \"I\")\n",
    "resort_names(train_case_dict, \"CASE18\", \"I\")"
   ]
  },
  {
   "cell_type": "code",
   "execution_count": 9,
   "id": "df81d06f",
   "metadata": {},
   "outputs": [
    {
     "name": "stdout",
     "output_type": "stream",
     "text": [
      "CASE01 ['1093782', '1093783', '1093784', '1093785', '1093786', '1093787', '1093788']\n",
      "CASE02 ['1092606', '1092607', '1092608', '1092609', '1092610', '1092611', '1092612']\n",
      "CASE03 ['2838333', '2838334', '2838335', '2838336', '2838337', '2838338', '2838339']\n",
      "CASE04 ['Cha366_0000.DCM', 'Cha366_0001.DCM', 'Cha366_0002.DCM', 'Cha366_0003.DCM', 'Cha366_0004.DCM', 'Cha366_0005.DCM', 'Cha366_0006.DCM']\n",
      "CASE05 ['Cha366_0000.DCM', 'Cha366_0001.DCM', 'Cha366_0002.DCM', 'Cha366_0003.DCM', 'Cha366_0004.DCM', 'Cha366_0005.DCM', 'Cha366_0006.DCM']\n",
      "CASE06 ['Cha416_0000.DCM', 'Cha416_0001.DCM', 'Cha416_0002.DCM', 'Cha416_0003.DCM', 'Cha416_0004.DCM', 'Cha416_0005.DCM', 'Cha416_0006.DCM']\n",
      "CASE07 ['Cha416_0000.DCM', 'Cha416_0001.DCM', 'Cha416_0002.DCM', 'Cha416_0003.DCM', 'Cha416_0004.DCM', 'Cha416_0005.DCM', 'Cha416_0006.DCM']\n",
      "CASE08 ['export0001.dcm', 'export0002.dcm', 'export0003.dcm', 'export0004.dcm', 'export0005.dcm', 'export0006.dcm', 'export0007.dcm']\n",
      "CASE09 ['export0001.dcm', 'export0002.dcm', 'export0003.dcm', 'export0004.dcm', 'export0005.dcm', 'export0006.dcm', 'export0007.dcm']\n",
      "CASE10 ['IM1581_20050425_001', 'IM1581_20050425_002', 'IM1581_20050425_003', 'IM1581_20050425_004', 'IM1581_20050425_005', 'IM1581_20050425_006', 'IM1581_20050425_007']\n",
      "CASE11 ['IM1213_20050316_001', 'IM1213_20050316_002', 'IM1213_20050316_003', 'IM1213_20050316_004', 'IM1213_20050316_005', 'IM1213_20050316_006', 'IM1213_20050316_007']\n",
      "CASE12 ['IM912_20050127_001', 'IM912_20050127_002', 'IM912_20050127_003', 'IM912_20050127_004', 'IM912_20050127_005', 'IM912_20050127_006', 'IM912_20050127_007']\n",
      "CASE13 ['14831443', '14831445', '14831447', '14831448', '14831450', '14831452', '14831454']\n",
      "CASE14 ['5919175', '5919193', '5919211', '5919229', '5919247', '5919265', '5919283']\n",
      "CASE15 ['000000.dcm', '000001.dcm', '000002.dcm', '000003.dcm', '000004.dcm', '000005.dcm', '000006.dcm']\n",
      "CASE16 ['I2IE0', 'I3IE0', 'I4IE0', 'I5IE0', 'I6IE0', 'I7IE0', 'I8IE0']\n",
      "CASE17 ['I10', 'I20', 'I30', 'I40', 'I50', 'I60', 'I70']\n",
      "CASE18 ['I10', 'I20', 'I30', 'I40', 'I50', 'I60', 'I70']\n",
      "CASE19 ['00001_1.3.12.2.1107.5.1.4.54014.30000008040906142467100004409.dcm', '00002_1.3.12.2.1107.5.1.4.54014.30000008040906142467100004408.dcm', '00003_1.3.12.2.1107.5.1.4.54014.30000008040906142467100004407.dcm', '00004_1.3.12.2.1107.5.1.4.54014.30000008040906142467100004406.dcm', '00005_1.3.12.2.1107.5.1.4.54014.30000008040906142467100004405.dcm', '00006_1.3.12.2.1107.5.1.4.54014.30000008040906142467100004404.dcm', '00007_1.3.12.2.1107.5.1.4.54014.30000008040906142467100004403.dcm']\n",
      "CASE20 ['00001_1.3.12.2.1107.5.1.4.50018.30000008022607255115600012136.dcm', '00002_1.3.12.2.1107.5.1.4.50018.30000008022607255115600012137.dcm', '00003_1.3.12.2.1107.5.1.4.50018.30000008022607255115600012138.dcm', '00004_1.3.12.2.1107.5.1.4.50018.30000008022607255115600012139.dcm', '00005_1.3.12.2.1107.5.1.4.50018.30000008022607255115600012140.dcm', '00006_1.3.12.2.1107.5.1.4.50018.30000008022607255115600012141.dcm', '00007_1.3.12.2.1107.5.1.4.50018.30000008022607255115600012142.dcm']\n"
     ]
    }
   ],
   "source": [
    "for name in train_case_dict.keys():\n",
    "    print(name, [train_case_dict[name][i].split(\"/\")[-1] for i in range(7)], end=\"\\n\")"
   ]
  },
  {
   "cell_type": "code",
   "execution_count": 13,
   "id": "fe024c58",
   "metadata": {},
   "outputs": [
    {
     "name": "stdout",
     "output_type": "stream",
     "text": [
      "CASE21 ['1118603', '1118604', '1118605', '1118606', '1118607', '1118608', '1118609']\n",
      "CASE22 ['1117529', '1117530', '1117531', '1117532', '1117533', '1117534', '1117535']\n",
      "CASE23 ['3133176', '3133177', '3133178', '3133179', '3133180', '3133181', '3133182']\n",
      "CASE24 ['Cha531_0000.DCM', 'Cha531_0001.DCM', 'Cha531_0002.DCM', 'Cha531_0003.DCM', 'Cha531_0004.DCM', 'Cha531_0005.DCM', 'Cha531_0006.DCM']\n",
      "CASE25 ['Cha531_0000.DCM', 'Cha531_0001.DCM', 'Cha531_0002.DCM', 'Cha531_0003.DCM', 'Cha531_0004.DCM', 'Cha531_0005.DCM', 'Cha531_0006.DCM']\n",
      "CASE26 ['Cha351_0000.DCM', 'Cha351_0001.DCM', 'Cha351_0002.DCM', 'Cha351_0003.DCM', 'Cha351_0004.DCM', 'Cha351_0005.DCM', 'Cha351_0006.DCM']\n",
      "CASE27 ['Cha351_0000', 'Cha351_0001', 'Cha351_0002', 'Cha351_0003', 'Cha351_0004', 'Cha351_0005', 'Cha351_0006']\n",
      "CASE28 ['export0001.dcm', 'export0002.dcm', 'export0003.dcm', 'export0004.dcm', 'export0005.dcm', 'export0006.dcm', 'export0007.dcm']\n",
      "CASE29 ['export0001.dcm', 'export0002.dcm', 'export0003.dcm', 'export0004.dcm', 'export0005.dcm', 'export0006.dcm', 'export0007.dcm']\n",
      "CASE30 ['IM3462_20051114_001', 'IM3462_20051114_002', 'IM3462_20051114_003', 'IM3462_20051114_004', 'IM3462_20051114_005', 'IM3462_20051114_006', 'IM3462_20051114_007']\n",
      "CASE31 ['IM3483_20051114_001', 'IM3483_20051114_002', 'IM3483_20051114_003', 'IM3483_20051114_004', 'IM3483_20051114_005', 'IM3483_20051114_006', 'IM3483_20051114_007']\n",
      "CASE32 ['IM1907_20050606_001', 'IM1907_20050606_002', 'IM1907_20050606_003', 'IM1907_20050606_004', 'IM1907_20050606_005', 'IM1907_20050606_006', 'IM1907_20050606_007']\n",
      "CASE33 ['45031249', '45031267', '45031285', '45031303', '45031321', '45031339', '45031357']\n",
      "CASE34 ['13740106', '13740124', '13740142', '13740160', '13740178', '13740196', '13740214']\n",
      "CASE35 ['000000.dcm', '000001.dcm', '000002.dcm', '000003.dcm', '000004.dcm', '000005.dcm', '000006.dcm']\n",
      "CASE36 ['I2IE0', 'I3IE0', 'I4IE0', 'I5IE0', 'I6IE0', 'I7IE0', 'I8IE0']\n",
      "CASE37 ['I10', 'I20', 'I30', 'I40', 'I50', 'I60', 'I70']\n",
      "CASE38 ['I10', 'I20', 'I30', 'I40', 'I50', 'I60', 'I70']\n",
      "CASE39 ['00001_1.3.12.2.1107.5.1.4.54014.30020008101406201701500018281.dcm', '00002_1.3.12.2.1107.5.1.4.54014.30020008101406201701500018280.dcm', '00003_1.3.12.2.1107.5.1.4.54014.30020008101406201701500018279.dcm', '00004_1.3.12.2.1107.5.1.4.54014.30020008101406201701500018278.dcm', '00005_1.3.12.2.1107.5.1.4.54014.30020008101406201701500018277.dcm', '00006_1.3.12.2.1107.5.1.4.54014.30020008101406201701500018276.dcm', '00007_1.3.12.2.1107.5.1.4.54014.30020008101406201701500018275.dcm']\n",
      "CASE40 ['00001_1.3.12.2.1107.5.1.4.50018.30000008030607573559300002130.dcm', '00002_1.3.12.2.1107.5.1.4.50018.30000008030607573559300002131.dcm', '00003_1.3.12.2.1107.5.1.4.50018.30000008030607573559300002132.dcm', '00004_1.3.12.2.1107.5.1.4.50018.30000008030607573559300002133.dcm', '00005_1.3.12.2.1107.5.1.4.50018.30000008030607573559300002134.dcm', '00006_1.3.12.2.1107.5.1.4.50018.30000008030607573559300002135.dcm', '00007_1.3.12.2.1107.5.1.4.50018.30000008030607573559300002136.dcm']\n"
     ]
    }
   ],
   "source": [
    "for name in test_case_dict.keys():\n",
    "    print(name, [test_case_dict[name][i].split(\"/\")[-1] for i in range(7)], end=\"\\n\")"
   ]
  },
  {
   "attachments": {},
   "cell_type": "markdown",
   "id": "440fd81b",
   "metadata": {},
   "source": [
    "### get 3d imgs and save them"
   ]
  },
  {
   "cell_type": "code",
   "execution_count": 9,
   "id": "7b3cf5a5",
   "metadata": {},
   "outputs": [],
   "source": [
    "output_file_path = \"./data/Airway/EXACT09_3D\" #\"/data/Airway/EXACT09_3D\"\n",
    "\n",
    "if not os.path.exists(output_file_path):\n",
    "    os.mkdir(output_file_path)\n",
    "\n",
    "if not os.path.exists(output_file_path+\"/train\"):\n",
    "    os.mkdir(output_file_path+\"/train\")\n",
    "\n",
    "if not os.path.exists(output_file_path+\"/test\"):\n",
    "    os.mkdir(output_file_path+\"/test\")\n",
    "\n",
    "if not os.path.exists(output_file_path+\"/train_label\"):\n",
    "    os.mkdir(output_file_path+\"/train_label\")"
   ]
  },
  {
   "cell_type": "code",
   "execution_count": 7,
   "id": "257461a6",
   "metadata": {},
   "outputs": [],
   "source": [
    "def loadFile(filename):\n",
    "    ds = sitk.ReadImage(filename)\n",
    "    img_array = sitk.GetArrayFromImage(ds)\n",
    "    frame_num, width, height = img_array.shape\n",
    "    return img_array, frame_num, width, height\n",
    "\n",
    "def get_3d_img_for_one_case(img_path_list):\n",
    "    img_3d=[]\n",
    "    for idx, img_path in enumerate(img_path_list):\n",
    "        print(\"progress: \"+str(idx/len(img_path_list))+\"; \"+str(img_path), end=\"\\r\")\n",
    "        img_slice, frame_num, _, _ = loadFile(img_path)\n",
    "        assert frame_num==1\n",
    "        img_3d.append(img_slice)\n",
    "    img_3d=np.array(img_3d)\n",
    "    return img_3d.reshape(img_3d.shape[0], img_3d.shape[2], img_3d.shape[3])"
   ]
  },
  {
   "cell_type": "code",
   "execution_count": 12,
   "id": "f199bb14",
   "metadata": {},
   "outputs": [
    {
     "name": "stdout",
     "output_type": "stream",
     "text": [
      "progress: 0.9968652037617555; ./data/Airway/EXACT09/Training/CASE20/00319_1.3.12.2.1107.5.1.4.50018.30000008022607255115600012454.dcmmm\r"
     ]
    }
   ],
   "source": [
    "# preprocess and save one case\n",
    "img_3d = get_3d_img_for_one_case(train_case_dict[\"CASE20\"])\n",
    "sitk.WriteImage(sitk.GetImageFromArray(img_3d), output_file_path+\"/train/CASE20.nii.gz\")"
   ]
  },
  {
   "cell_type": "code",
   "execution_count": 15,
   "id": "d3442d61",
   "metadata": {},
   "outputs": [
    {
     "data": {
      "text/plain": [
       "(319, 512, 512)"
      ]
     },
     "execution_count": 15,
     "metadata": {},
     "output_type": "execute_result"
    }
   ],
   "source": [
    "img_3d.shape"
   ]
  },
  {
   "cell_type": "code",
   "execution_count": 17,
   "id": "eb1fdb7b",
   "metadata": {},
   "outputs": [
    {
     "name": "stdout",
     "output_type": "stream",
     "text": [
      "CASE01\n",
      "CASE02ss: 0.9982964224872232; ./data/Airway/EXACT09/Training/CASE01/1094368476\n",
      "CASE03ss: 0.9982964224872232; ./data/Airway/EXACT09/Training/CASE02/1093192810\n",
      "CASE04ss: 0.9982174688057041; ./data/Airway/EXACT09/Training/CASE03/283889338\n",
      "CASE05ss: 0.998003992015968; ./data/Airway/EXACT09/Training/CASE04/Cha366_0500.DCMMMM\n",
      "CASE06ss: 0.9972677595628415; ./data/Airway/EXACT09/Training/CASE05/Cha366_0365.DCMMM\n",
      "CASE07ss: 0.998003992015968; ./data/Airway/EXACT09/Training/CASE06/Cha416_0500.DCMMMM\n",
      "CASE08ss: 0.9975961538461539; ./data/Airway/EXACT09/Training/CASE07/Cha416_0415.DCMMM\n",
      "CASE09ss: 0.9975669099756691; ./data/Airway/EXACT09/Training/CASE08/export0411.dcmmmm\n",
      "CASE10ss: 0.9975669099756691; ./data/Airway/EXACT09/Training/CASE09/export0411.dcmmmm\n",
      "CASE11ss: 0.996742671009772; ./data/Airway/EXACT09/Training/CASE10/IM1581_20050425_307426\n",
      "CASE12ss: 0.9971590909090909; ./data/Airway/EXACT09/Training/CASE11/IM1213_20050316_35231\n",
      "CASE13ss: 0.9973958333333334; ./data/Airway/EXACT09/Training/CASE12/IM912_20050127_384642\n",
      "CASE14ss: 0.9965870307167235; ./data/Airway/EXACT09/Training/CASE13/14832593505\n",
      "CASE15ss: 0.9973821989528796; ./data/Airway/EXACT09/Training/CASE14/593438459\n",
      "CASE16ss: 0.9980314960629921; ./data/Airway/EXACT09/Training/CASE15/000507.dcmmm\n",
      "CASE17ss: 0.9975728155339806; ./data/Airway/EXACT09/Training/CASE16/I413IE00\n",
      "CASE18ss: 0.9977324263038548; ./data/Airway/EXACT09/Training/CASE17/I44100\n",
      "CASE19ss: 0.9976359338061466; ./data/Airway/EXACT09/Training/CASE18/I42300\n",
      "CASE20ss: 0.9958847736625515; ./data/Airway/EXACT09/Training/CASE19/00243_1.3.12.2.1107.5.1.4.54014.30000008040906142467100004167.dcmmm\n",
      "CASE21ss: 0.9968652037617555; ./data/Airway/EXACT09/Training/CASE20/00319_1.3.12.2.1107.5.1.4.50018.30000008022607255115600012454.dcmmm\n",
      "CASE22ss: 0.9981343283582089; ./data/Airway/EXACT09/Testing/CASE21/1119138565\n",
      "CASE23ss: 0.9981343283582089; ./data/Airway/EXACT09/Testing/CASE22/1118064121\n",
      "CASE24ss: 0.9985185185185185; ./data/Airway/EXACT09/Testing/CASE23/3133850359\n",
      "CASE25ss: 0.998003992015968; ./data/Airway/EXACT09/Testing/CASE24/Cha531_0500.DCMMMM\n",
      "CASE26ss: 0.9981167608286252; ./data/Airway/EXACT09/Testing/CASE25/Cha531_0530.DCMMMM\n",
      "CASE27ss: 0.998003992015968; ./data/Airway/EXACT09/Testing/CASE26/Cha351_0500.DCMMMM\n",
      "CASE28ss: 0.9971509971509972; ./data/Airway/EXACT09/Testing/CASE27/Cha351_035046\n",
      "CASE29ss: 0.9973753280839895; ./data/Airway/EXACT09/Testing/CASE28/export0381.dcmmmm\n",
      "CASE30ss: 0.9973404255319149; ./data/Airway/EXACT09/Testing/CASE29/export0376.dcmmmm\n",
      "CASE31ss: 0.9968553459119497; ./data/Airway/EXACT09/Testing/CASE30/IM3462_20051114_318702\n",
      "CASE32ss: 0.9966329966329966; ./data/Airway/EXACT09/Testing/CASE31/IM3483_20051114_29776\n",
      "CASE33ss: 0.9974811083123426; ./data/Airway/EXACT09/Testing/CASE32/IM1907_20050606_397852\n",
      "CASE34ss: 0.9974358974358974; ./data/Airway/EXACT09/Testing/CASE33/4507112933\n",
      "CASE35ss: 0.9974424552429667; ./data/Airway/EXACT09/Testing/CASE34/13747285280\n",
      "CASE36ss: 0.9978991596638656; ./data/Airway/EXACT09/Testing/CASE35/000475.dcmmmm\n",
      "CASE37ss: 0.9976359338061466; ./data/Airway/EXACT09/Testing/CASE36/I424IE00\n",
      "CASE38ss: 0.9979919678714859; ./data/Airway/EXACT09/Testing/CASE37/I49800\n",
      "CASE39ss: 0.9978021978021978; ./data/Airway/EXACT09/Testing/CASE38/I45500\n",
      "CASE40ss: 0.9962546816479401; ./data/Airway/EXACT09/Testing/CASE39/00267_1.3.12.2.1107.5.1.4.54014.30020008101406201701500018015.dcmmm\n",
      "progress: 0.9969135802469136; ./data/Airway/EXACT09/Testing/CASE40/00324_1.3.12.2.1107.5.1.4.50018.30000008030607573559300002453.dcmmmm\r"
     ]
    }
   ],
   "source": [
    "# preprocess and save cases\n",
    "for case in train_case_dict.keys():\n",
    "    print(case, end=\"\\n\")\n",
    "    img_3d = get_3d_img_for_one_case(train_case_dict[case])\n",
    "    sitk.WriteImage(sitk.GetImageFromArray(img_3d),\n",
    "                    output_file_path+\"/train/\"+case+'.nii.gz')\n",
    "    \n",
    "\n",
    "for case in test_case_dict.keys():\n",
    "    print(case, end=\"\\n\")\n",
    "    img_3d = get_3d_img_for_one_case(test_case_dict[case])\n",
    "    sitk.WriteImage(sitk.GetImageFromArray(img_3d),\n",
    "                    output_file_path+\"/test/\"+case+'.nii.gz')"
   ]
  },
  {
   "cell_type": "code",
   "execution_count": 16,
   "id": "83edcb58",
   "metadata": {},
   "outputs": [
    {
     "name": "stdout",
     "output_type": "stream",
     "text": [
      "CASE01\n",
      "(587, 512, 512)2964224872232; ./data/Airway/EXACT09/Training/CASE01/1094368476\n",
      "CASE02\n",
      "(587, 512, 512)2964224872232; ./data/Airway/EXACT09/Training/CASE02/1093192810\n",
      "CASE03\n",
      "(561, 512, 512)2174688057041; ./data/Airway/EXACT09/Training/CASE03/283889338\n",
      "CASE04\n",
      "(501, 512, 512)003992015968; ./data/Airway/EXACT09/Training/CASE04/Cha366_0500.DCMMMM\n",
      "CASE05\n",
      "(366, 512, 512)2677595628415; ./data/Airway/EXACT09/Training/CASE05/Cha366_0365.DCMMM\n",
      "CASE06\n",
      "(501, 512, 512)003992015968; ./data/Airway/EXACT09/Training/CASE06/Cha416_0500.DCMMMM\n",
      "CASE07\n",
      "(416, 512, 512)5961538461539; ./data/Airway/EXACT09/Training/CASE07/Cha416_0415.DCMMM\n",
      "CASE08\n",
      "(411, 512, 512)5669099756691; ./data/Airway/EXACT09/Training/CASE08/export0411.dcmmmm\n",
      "CASE09\n",
      "(411, 512, 512)5669099756691; ./data/Airway/EXACT09/Training/CASE09/export0411.dcmmmm\n",
      "CASE10\n",
      "(307, 512, 512)742671009772; ./data/Airway/EXACT09/Training/CASE10/IM1581_20050425_307426\n",
      "CASE11\n",
      "(352, 512, 512)1590909090909; ./data/Airway/EXACT09/Training/CASE11/IM1213_20050316_35231\n",
      "CASE12\n",
      "(384, 512, 512)3958333333334; ./data/Airway/EXACT09/Training/CASE12/IM912_20050127_384642\n",
      "CASE13\n",
      "(293, 512, 512)5870307167235; ./data/Airway/EXACT09/Training/CASE13/14832593505\n",
      "CASE14\n",
      "(382, 512, 512)3821989528796; ./data/Airway/EXACT09/Training/CASE14/593438459\n",
      "CASE15\n",
      "(508, 512, 512)0314960629921; ./data/Airway/EXACT09/Training/CASE15/000507.dcmmm\n",
      "CASE16\n",
      "(412, 512, 512)5728155339806; ./data/Airway/EXACT09/Training/CASE16/I413IE00\n",
      "CASE17\n",
      "(441, 512, 512)7324263038548; ./data/Airway/EXACT09/Training/CASE17/I44100\n",
      "CASE18\n",
      "(423, 512, 512)6359338061466; ./data/Airway/EXACT09/Training/CASE18/I42300\n",
      "CASE19\n",
      "(243, 512, 512)8847736625515; ./data/Airway/EXACT09/Training/CASE19/00243_1.3.12.2.1107.5.1.4.54014.30000008040906142467100004167.dcmmm\n",
      "CASE20\n",
      "(319, 512, 512)8652037617555; ./data/Airway/EXACT09/Training/CASE20/00319_1.3.12.2.1107.5.1.4.50018.30000008022607255115600012454.dcmmm\n",
      "CASE21\n",
      "(536, 512, 512)1343283582089; ./data/Airway/EXACT09/Testing/CASE21/1119138565\n",
      "CASE22\n",
      "(536, 512, 512)1343283582089; ./data/Airway/EXACT09/Testing/CASE22/1118064121\n",
      "CASE23\n",
      "(675, 512, 512)5185185185185; ./data/Airway/EXACT09/Testing/CASE23/3133850359\n",
      "CASE24\n",
      "(501, 512, 512)003992015968; ./data/Airway/EXACT09/Testing/CASE24/Cha531_0500.DCMMMM\n",
      "CASE25\n",
      "(531, 512, 512)1167608286252; ./data/Airway/EXACT09/Testing/CASE25/Cha531_0530.DCMMMM\n",
      "CASE26\n",
      "(501, 512, 512)003992015968; ./data/Airway/EXACT09/Testing/CASE26/Cha351_0500.DCMMMM\n",
      "CASE27\n",
      "(351, 512, 512)1509971509972; ./data/Airway/EXACT09/Testing/CASE27/Cha351_035046\n",
      "CASE28\n",
      "(381, 512, 512)3753280839895; ./data/Airway/EXACT09/Testing/CASE28/export0381.dcmmmm\n",
      "CASE29\n",
      "(376, 512, 512)3404255319149; ./data/Airway/EXACT09/Testing/CASE29/export0376.dcmmmm\n",
      "CASE30\n",
      "(318, 512, 512)8553459119497; ./data/Airway/EXACT09/Testing/CASE30/IM3462_20051114_318702\n",
      "CASE31\n",
      "(297, 512, 512)6329966329966; ./data/Airway/EXACT09/Testing/CASE31/IM3483_20051114_29776\n",
      "CASE32\n",
      "(397, 512, 512)4811083123426; ./data/Airway/EXACT09/Testing/CASE32/IM1907_20050606_397852\n",
      "CASE33\n",
      "(390, 512, 512)4358974358974; ./data/Airway/EXACT09/Testing/CASE33/4507112933\n",
      "CASE34\n",
      "(391, 512, 512)4424552429667; ./data/Airway/EXACT09/Testing/CASE34/13747285280\n",
      "CASE35\n",
      "(476, 512, 512)8991596638656; ./data/Airway/EXACT09/Testing/CASE35/000475.dcmmmm\n",
      "CASE36\n",
      "(423, 512, 512)6359338061466; ./data/Airway/EXACT09/Testing/CASE36/I424IE00\n",
      "CASE37\n",
      "(498, 512, 512)9919678714859; ./data/Airway/EXACT09/Testing/CASE37/I49800\n",
      "CASE38\n",
      "(455, 512, 512)8021978021978; ./data/Airway/EXACT09/Testing/CASE38/I45500\n",
      "CASE39\n",
      "(267, 512, 512)2546816479401; ./data/Airway/EXACT09/Testing/CASE39/00267_1.3.12.2.1107.5.1.4.54014.30020008101406201701500018015.dcmmm\n",
      "CASE40\n",
      "(324, 512, 512)9135802469136; ./data/Airway/EXACT09/Testing/CASE40/00324_1.3.12.2.1107.5.1.4.50018.30000008030607573559300002453.dcmmmm\n"
     ]
    }
   ],
   "source": [
    "# # preprocess and save cases\n",
    "# for case in train_case_dict.keys():\n",
    "#     print(case, end=\"\\n\")\n",
    "#     img_3d = get_3d_img_for_one_case(train_case_dict[case])\n",
    "#     print(img_3d.shape)\n",
    "    \n",
    "\n",
    "# for case in test_case_dict.keys():\n",
    "#     print(case, end=\"\\n\")\n",
    "#     img_3d = get_3d_img_for_one_case(test_case_dict[case])\n",
    "#     print(img_3d.shape)"
   ]
  },
  {
   "attachments": {},
   "cell_type": "markdown",
   "id": "37d61d6c",
   "metadata": {},
   "source": [
    "Attention! the image orders of some cases are wrong. You should visually check every 3D img..."
   ]
  },
  {
   "cell_type": "code",
   "execution_count": 3,
   "id": "d056b61f",
   "metadata": {},
   "outputs": [],
   "source": [
    "# E.g.\n",
    "\n",
    "def reverse_img_3d_np(img_3d):\n",
    "    img_3d_shape=img_3d.shape\n",
    "    reverse_img_3d = np.zeros(img_3d_shape)\n",
    "    # reverse from the 1st channel\n",
    "    for i in range(img_3d_shape[0]):\n",
    "        print(\"progress: \"+str(i/img_3d_shape[0]), end=\"\\r\")\n",
    "        reverse_img_3d[img_3d_shape[0]-i-1,:,:]=img_3d[i,:,:]\n",
    "    return reverse_img_3d\n",
    "\n",
    "#mark: for CASE13, raw_img = np.concatenate((reverse_img_3d_np(raw_img[:93,:,:]), reverse_img_3d_np(raw_img[93:193,:,:]), reverse_img_3d_np(raw_img[193:,:,:])), axis=0)\n",
    "#mark: for CASE14, raw_img = np.concatenate((reverse_img_3d_np(raw_img[:82,:,:]), reverse_img_3d_np(raw_img[82:181,:,:]),\n",
    "#                          reverse_img_3d_np(raw_img[181:282,:,:]), reverse_img_3d_np(raw_img[282:,:,:])), axis=0)"
   ]
  },
  {
   "attachments": {},
   "cell_type": "markdown",
   "id": "4af79964",
   "metadata": {},
   "source": [
    "아니 공식 데이터셋이 없어요\n",
    "\n",
    "니들이 주고서 하라고 해야 될 거 아니에요"
   ]
  },
  {
   "cell_type": "code",
   "execution_count": 10,
   "id": "078cfb30",
   "metadata": {},
   "outputs": [
    {
     "name": "stdout",
     "output_type": "stream",
     "text": [
      "CASE01\n",
      "CASE02\n",
      "CASE03\n",
      "CASE04\n",
      "CASE05\n",
      "CASE06\n",
      "CASE07\n",
      "CASE08\n",
      "CASE09\n",
      "CASE10\n",
      "CASE11\n",
      "CASE12\n",
      "CASE13\n",
      "CASE14\n",
      "CASE15\n",
      "CASE16\n",
      "CASE17\n",
      "CASE18\n",
      "CASE19\n",
      "CASE20\n"
     ]
    }
   ],
   "source": [
    "# get labels of the training data\n",
    "label_file_path = \"./data/Airway/EXACT09_annotation\"\n",
    "\n",
    "for case in train_case_dict.keys():\n",
    "    print(case)\n",
    "    img_label_arr, _, _, _ = loadFile(label_file_path+'/'+case+'.mhd')\n",
    "    sitk.WriteImage(sitk.GetImageFromArray(img_label_arr),\n",
    "                    output_file_path+\"/train_label/\"+case+'_label.nii.gz')"
   ]
  },
  {
   "cell_type": "code",
   "execution_count": null,
   "id": "5baf2062",
   "metadata": {},
   "outputs": [],
   "source": []
  }
 ],
 "metadata": {
  "interpreter": {
   "hash": "413c74dae44971f489c104d6badd9e955f885b72435dcb78479102e89662e853"
  },
  "kernelspec": {
   "display_name": "Python 3 (ipykernel)",
   "language": "python",
   "name": "python3"
  },
  "language_info": {
   "codemirror_mode": {
    "name": "ipython",
    "version": 3
   },
   "file_extension": ".py",
   "mimetype": "text/x-python",
   "name": "python",
   "nbconvert_exporter": "python",
   "pygments_lexer": "ipython3",
   "version": "3.9.12"
  }
 },
 "nbformat": 4,
 "nbformat_minor": 5
}
