{
 "cells": [
  {
   "attachments": {},
   "cell_type": "markdown",
   "id": "4ac5fc58",
   "metadata": {},
   "source": [
    "# Pre-process LIDC-IDR"
   ]
  },
  {
   "cell_type": "code",
   "execution_count": 1,
   "id": "eb1e3c25",
   "metadata": {},
   "outputs": [],
   "source": [
    "import numpy as np\n",
    "import os\n",
    "import SimpleITK as sitk\n",
    "from PIL import Image\n",
    "import pydicom\n",
    "import cv2\n",
    "import nibabel as nib\n",
    "import pydicom\n"
   ]
  },
  {
   "attachments": {},
   "cell_type": "markdown",
   "id": "71a2da3a",
   "metadata": {},
   "source": [
    "### Some functions"
   ]
  },
  {
   "cell_type": "code",
   "execution_count": 2,
   "id": "32d3d9aa",
   "metadata": {},
   "outputs": [],
   "source": [
    "def loadFile(filename):\n",
    "    ds = sitk.ReadImage(filename)\n",
    "    #pydicom.dcmread(filename)\n",
    "    img_array = sitk.GetArrayFromImage(ds)\n",
    "    frame_num, width, height = img_array.shape\n",
    "    #print(\"frame_num, width, height: \"+str((frame_num, width, height)))\n",
    "    return img_array, frame_num, width, height\n",
    "\n",
    "def loadFileInformation(filename):\n",
    "    information = {}\n",
    "    ds = pydicom.read_file(filename)\n",
    "    information['PatientID'] = ds.PatientID\n",
    "    information['PatientName'] = ds.PatientName\n",
    "    information['PatientSex'] = ds.PatientSex\n",
    "    information['StudyID'] = ds.StudyID\n",
    "    information['StudyDate'] = ds.StudyDate\n",
    "    information['StudyTime'] = ds.StudyTime\n",
    "    information['Manufacturer'] = ds.Manufacturer\n",
    "    return information\n",
    "\n",
    "def get_3d_img_for_one_case(img_path_list, img_format=\"dcm\"):\n",
    "    img_3d=[]\n",
    "    for idx, img_path in enumerate(img_path_list):\n",
    "        print(\"progress: \"+str(idx/len(img_path_list))+\"; \"+str(img_path), end=\"\\r\")\n",
    "        img_slice, frame_num, _, _ = loadFile(img_path)\n",
    "        assert frame_num==1\n",
    "        img_3d.append(img_slice)\n",
    "    img_3d=np.array(img_3d)\n",
    "    return img_3d.reshape(img_3d.shape[0], img_3d.shape[2], img_3d.shape[3])"
   ]
  },
  {
   "cell_type": "code",
   "execution_count": 3,
   "id": "1257f2d7",
   "metadata": {},
   "outputs": [],
   "source": [
    "ds = pydicom.read_file(\"data/BE_CT/00006185_20080731150531/00006185_2008073115053101.dcm\")"
   ]
  },
  {
   "cell_type": "code",
   "execution_count": 18,
   "id": "7351afda",
   "metadata": {},
   "outputs": [
    {
     "data": {
      "text/plain": [
       "Dataset.file_meta -------------------------------\n",
       "(0002, 0000) File Meta Information Group Length  UL: 192\n",
       "(0002, 0001) File Meta Information Version       OB: b'\\x00\\x01'\n",
       "(0002, 0002) Media Storage SOP Class UID         UI: CT Image Storage\n",
       "(0002, 0003) Media Storage SOP Instance UID      UI: 1.2.840.113704.1.111.3208.1217484374.25490\n",
       "(0002, 0010) Transfer Syntax UID                 UI: Explicit VR Little Endian\n",
       "(0002, 0012) Implementation Class UID            UI: 1.2.410.200010.99.3.5\n",
       "(0002, 0013) Implementation Version Name         SH: 'OFFIS_DCMTK_361'\n",
       "(0002, 0016) Source Application Entity Title     AE: 'CT1'\n",
       "-------------------------------------------------\n",
       "(0008, 0008) Image Type                          CS: ['ORIGINAL', 'PRIMARY', 'LOCALIZER']\n",
       "(0008, 0012) Instance Creation Date              DA: '20080731'\n",
       "(0008, 0013) Instance Creation Time              TM: '150614'\n",
       "(0008, 0016) SOP Class UID                       UI: CT Image Storage\n",
       "(0008, 0018) SOP Instance UID                    UI: 1.2.840.113704.1.111.3208.1217484374.25490\n",
       "(0008, 0020) Study Date                          DA: '20080731'\n",
       "(0008, 0022) Acquisition Date                    DA: '20080731'\n",
       "(0008, 0023) Content Date                        DA: '20080731'\n",
       "(0008, 0030) Study Time                          TM: '150531'\n",
       "(0008, 0032) Acquisition Time                    TM: '150609'\n",
       "(0008, 0033) Content Time                        TM: '150609.000000'\n",
       "(0008, 0050) Accession Number                    SH: ''\n",
       "(0008, 0060) Modality                            CS: 'CT'\n",
       "(0008, 0070) Manufacturer                        LO: 'Philips'\n",
       "(0008, 0080) Institution Name                    LO: 'KHU.EWNMC'\n",
       "(0008, 0081) Institution Address                 ST: 'SEOUL'\n",
       "(0008, 0090) Referring Physician's Name          PN: ''\n",
       "(0008, 1010) Station Name                        SH: 'HOST-50074'\n",
       "(0008, 1030) Study Description                   LO: 'Chest HRCT'\n",
       "(0008, 1032)  Procedure Code Sequence  1 item(s) ---- \n",
       "   (0008, 0100) Code Value                          SH: 'RCGCA4541'\n",
       "   (0008, 0102) Coding Scheme Designator            SH: 'EWNMC'\n",
       "   (0008, 0104) Code Meaning                        LO: 'Chest HRCT'\n",
       "   ---------\n",
       "(0008, 103e) Series Description                  LO: ''\n",
       "(0008, 1040) Institutional Department Name       LO: 'Radiology'\n",
       "(0008, 1070) Operators' Name                     PN: ''\n",
       "(0008, 1090) Manufacturer's Model Name           LO: 'Brilliance 16'\n",
       "(0008, 1110)  Referenced Study Sequence  1 item(s) ---- \n",
       "   (0008, 1150) Referenced SOP Class UID            UI: 1.2.401.200010.82.147.72008073131448\n",
       "   (0008, 1155) Referenced SOP Instance UID         UI: 1.2.401.200010.82.147.72008073131448\n",
       "   ---------\n",
       "(0008, 1111)  Referenced Performed Procedure Step Sequence  1 item(s) ---- \n",
       "   (0008, 1150) Referenced SOP Class UID            UI: Modality Performed Procedure Step SOP Class\n",
       "   (0008, 1155) Referenced SOP Instance UID         UI: 1.2.840.113704.1.111.3348.1217484325.86\n",
       "   ---------\n",
       "(0008, 1120)  Referenced Patient Sequence  1 item(s) ---- \n",
       "   (0008, 1150) Referenced SOP Class UID            UI: 1.2.401.200010.82.147.72008073131448\n",
       "   (0008, 1155) Referenced SOP Instance UID         UI: 1.2.401.200010.82.147.72008073131448\n",
       "   ---------\n",
       "(0010, 0010) Patient's Name                      PN: 'ÀÌ»ó¿¬'\n",
       "(0010, 0020) Patient ID                          LO: '00006185'\n",
       "(0010, 0030) Patient's Birth Date                DA: '19470303'\n",
       "(0010, 0040) Patient's Sex                       CS: 'M'\n",
       "(0010, 1000) Other Patient IDs                   LO: '4703031009218'\n",
       "(0010, 1010) Patient's Age                       AS: '061Y'\n",
       "(0010, 1030) Patient's Weight                    DS: None\n",
       "(0010, 2000) Medical Alerts                      LO: ''\n",
       "(0010, 2110) Allergies                           LO: ''\n",
       "(0010, 21c0) Pregnancy Status                    US: None\n",
       "(0018, 0022) Scan Options                        CS: 'SURVIEW'\n",
       "(0018, 0050) Slice Thickness                     DS: '0.75'\n",
       "(0018, 0060) KVP                                 DS: '120.0'\n",
       "(0018, 0090) Data Collection Diameter            DS: '500.0'\n",
       "(0018, 1020) Software Versions                   LO: '2.3.0'\n",
       "(0018, 1030) Protocol Name                       LO: 'CHEST HR/Thorax'\n",
       "(0018, 1100) Reconstruction Diameter             DS: '500.0'\n",
       "(0018, 1120) Gantry/Detector Tilt                DS: '0.0'\n",
       "(0018, 1130) Table Height                        DS: '115.0'\n",
       "(0018, 1140) Rotation Direction                  CS: 'CW'\n",
       "(0018, 1141) Angular Position                    DS: '180.0'\n",
       "(0018, 1143) Scan Arc                            DS: '180.0'\n",
       "(0018, 1150) Exposure Time                       IS: '4600'\n",
       "(0018, 1151) X-Ray Tube Current                  IS: '30'\n",
       "(0018, 1160) Filter Type                         SH: 'D'\n",
       "(0018, 5100) Patient Position                    CS: 'FFS'\n",
       "(0018, 9323) Exposure Modulation Type            CS: ''\n",
       "(0020, 000d) Study Instance UID                  UI: 1.2.840.113704.1.111.6480.1217484331.1\n",
       "(0020, 000e) Series Instance UID                 UI: 1.2.840.113704.1.111.6480.1217484340.3\n",
       "(0020, 0010) Study ID                            SH: '18479'\n",
       "(0020, 0011) Series Number                       IS: '1'\n",
       "(0020, 0012) Acquisition Number                  IS: None\n",
       "(0020, 0013) Instance Number                     IS: '1'\n",
       "(0020, 0032) Image Position (Patient)            DS: [-250, 140, 1156.59995]\n",
       "(0020, 0037) Image Orientation (Patient)         DS: [1, 0, 0, 0, 0, -1]\n",
       "(0020, 0052) Frame of Reference UID              UI: 1.2.840.113704.1.111.6480.1217484340.4\n",
       "(0020, 0060) Laterality                          CS: ''\n",
       "(0020, 1040) Position Reference Indicator        LO: ''\n",
       "(0020, 1041) Slice Location                      DS: '-1156.6'\n",
       "(0020, 4000) Image Comments                      LT: ''\n",
       "(0028, 0002) Samples per Pixel                   US: 1\n",
       "(0028, 0004) Photometric Interpretation          CS: 'MONOCHROME2'\n",
       "(0028, 0010) Rows                                US: 471\n",
       "(0028, 0011) Columns                             US: 512\n",
       "(0028, 0030) Pixel Spacing                       DS: [0.9765625, 0.9765625]\n",
       "(0028, 0100) Bits Allocated                      US: 16\n",
       "(0028, 0101) Bits Stored                         US: 12\n",
       "(0028, 0102) High Bit                            US: 11\n",
       "(0028, 0103) Pixel Representation                US: 0\n",
       "(0028, 1050) Window Center                       DS: [00200, 00200]\n",
       "(0028, 1051) Window Width                        DS: [01500, 01500]\n",
       "(0028, 1052) Rescale Intercept                   DS: '-1024.0'\n",
       "(0028, 1053) Rescale Slope                       DS: '1.0'\n",
       "(0028, 2110) Lossy Image Compression             CS: '00'\n",
       "(0032, 1032) Requesting Physician                PN: 'YOO JI HONG'\n",
       "(0032, 1033) Requesting Service                  LO: '(È£Èí±â)È£Èí±â³»°ú'\n",
       "(0032, 1060) Requested Procedure Description     LO: 'Chest HRCT'\n",
       "(0032, 1070) Requested Contrast Agent            LO: ''\n",
       "(0038, 0010) Admission ID                        LO: ''\n",
       "(0038, 0050) Special Needs                       LO: 'sp'\n",
       "(0038, 0500) Patient State                       LO: ''\n",
       "(0040, 0012) Pre-Medication                      LO: ''\n",
       "(0040, 0253) Performed Procedure Step ID         SH: '1847980'\n",
       "(0040, 0254) Performed Procedure Step Descriptio LO: 'Chest HRCT'\n",
       "(0040, 0260)  Performed Protocol Code Sequence  1 item(s) ---- \n",
       "   (0008, 0100) Code Value                          SH: 'RCGCA4541'\n",
       "   (0008, 0102) Coding Scheme Designator            SH: 'EWNMC'\n",
       "   (0008, 0104) Code Meaning                        LO: 'Chest HRCT'\n",
       "   ---------\n",
       "(0040, 0275)  Request Attributes Sequence  1 item(s) ---- \n",
       "   (0040, 0007) Scheduled Procedure Step Descriptio LO: 'Chest HRCT'\n",
       "   (0040, 0008)  Scheduled Protocol Code Sequence  1 item(s) ---- \n",
       "      (0008, 0100) Code Value                          SH: 'RCGCA4511'\n",
       "      (0008, 0102) Coding Scheme Designator            SH: 'EWNMC'\n",
       "      (0008, 0103) Coding Scheme Version               SH: ''\n",
       "      (0008, 0104) Code Meaning                        LO: 'Chest HRCT'\n",
       "      ---------\n",
       "   (0040, 0009) Scheduled Procedure Step ID         SH: 'RCGCA4511'\n",
       "   (0040, 1001) Requested Procedure ID              SH: 'RCGCA4511'\n",
       "   ---------\n",
       "(0040, 3001) Confidentiality Constraint on Patie LO: ''\n",
       "(7fe0, 0010) Pixel Data                          OW: Array of 482304 elements"
      ]
     },
     "execution_count": 18,
     "metadata": {},
     "output_type": "execute_result"
    }
   ],
   "source": [
    "ds\n"
   ]
  },
  {
   "attachments": {},
   "cell_type": "markdown",
   "id": "81a79403",
   "metadata": {},
   "source": [
    "### for all LIDC-IDRI images"
   ]
  },
  {
   "cell_type": "code",
   "execution_count": 3,
   "id": "5bb51720",
   "metadata": {},
   "outputs": [],
   "source": [
    "# the path to LIDC-IDRI raw images\n",
    "\n",
    "LIDC_IDRI_raw_path = \"./data/Airway/LIDC-IDRI\""
   ]
  },
  {
   "attachments": {},
   "cell_type": "markdown",
   "id": "78138bbd",
   "metadata": {},
   "source": [
    "The file structure should be like this\\\n",
    "\\\n",
    "/data/Airway/LIDC-IDRI\\\n",
    "    /LIDC-IDRI-0001\\\n",
    "        /1.3.6.1.4.1.14519.5.2.1.6279.6001.298806137288633453246975630178\\\n",
    "            /1.3.6.1.4.1.14519.5.2.1.6279.6001.179049373636438705059720603192\\\n",
    "                /1-001.dcm\\\n",
    "                /1-002.dcm\\\n",
    "                ...\\\n",
    "    /LIDC-IDRI-0002\\\n",
    "    ..."
   ]
  },
  {
   "cell_type": "code",
   "execution_count": 10,
   "id": "8964f7db",
   "metadata": {},
   "outputs": [
    {
     "name": "stdout",
     "output_type": "stream",
     "text": [
      "0.9990108803165183545\r"
     ]
    }
   ],
   "source": [
    "LIDC_IDRI_raw_img_dict = {}\n",
    "img_names = os.listdir(LIDC_IDRI_raw_path)\n",
    "img_names.sort()\n",
    "img_names\n",
    "\n",
    "path_to_a_case = \"\"\n",
    "\n",
    "def find_imgs(input_path):\n",
    "    global path_to_a_case\n",
    "    items = os.listdir(input_path)\n",
    "    items.sort()\n",
    "    #print(\"There are \"+str(items)+\" in \"+str(input_path))\n",
    "    All_file_flag = True\n",
    "    for item in items:\n",
    "        if os.path.isdir(input_path+\"/\"+item):\n",
    "            All_file_flag = False\n",
    "            break\n",
    "    if All_file_flag and len(items)>10:\n",
    "        #print(\"we get \"+str(input_path))\n",
    "        path_to_a_case = input_path\n",
    "    else:\n",
    "        for item in items:\n",
    "            if os.path.isdir(input_path+\"/\"+item):\n",
    "                #print(\"open filefloder: \"+str(input_path+\"/\"+item))\n",
    "                find_imgs(input_path+\"/\"+item)\n",
    "    \n",
    "for idx, img_name in enumerate(img_names):\n",
    "    if img_name.endswith(\"LICENSE\"):\n",
    "        continue\n",
    "    print(idx/len(img_names), end=\"\\r\")\n",
    "    find_imgs(LIDC_IDRI_raw_path+\"/\"+img_name)\n",
    "    slice_names = os.listdir(path_to_a_case)\n",
    "    slice_names.sort()\n",
    "    LIDC_IDRI_raw_img_dict[img_name]=[]\n",
    "    for slice_name in slice_names:\n",
    "        if slice_name.split(\".\")[1]==\"dcm\":\n",
    "            LIDC_IDRI_raw_img_dict[img_name].append(path_to_a_case+\"/\"+slice_name)"
   ]
  },
  {
   "cell_type": "code",
   "execution_count": 11,
   "id": "ff5fa72a",
   "metadata": {},
   "outputs": [
    {
     "name": "stdout",
     "output_type": "stream",
     "text": [
      "Show the case names: dict_keys(['LIDC-IDRI-0001', 'LIDC-IDRI-0002', 'LIDC-IDRI-0003', 'LIDC-IDRI-0004', 'LIDC-IDRI-0005', 'LIDC-IDRI-0006', 'LIDC-IDRI-0007', 'LIDC-IDRI-0008', 'LIDC-IDRI-0009', 'LIDC-IDRI-0010', 'LIDC-IDRI-0011', 'LIDC-IDRI-0012', 'LIDC-IDRI-0013', 'LIDC-IDRI-0014', 'LIDC-IDRI-0015', 'LIDC-IDRI-0016', 'LIDC-IDRI-0017', 'LIDC-IDRI-0018', 'LIDC-IDRI-0019', 'LIDC-IDRI-0020', 'LIDC-IDRI-0021', 'LIDC-IDRI-0022', 'LIDC-IDRI-0023', 'LIDC-IDRI-0024', 'LIDC-IDRI-0025', 'LIDC-IDRI-0026', 'LIDC-IDRI-0027', 'LIDC-IDRI-0028', 'LIDC-IDRI-0029', 'LIDC-IDRI-0030', 'LIDC-IDRI-0031', 'LIDC-IDRI-0032', 'LIDC-IDRI-0033', 'LIDC-IDRI-0034', 'LIDC-IDRI-0035', 'LIDC-IDRI-0036', 'LIDC-IDRI-0037', 'LIDC-IDRI-0038', 'LIDC-IDRI-0039', 'LIDC-IDRI-0040', 'LIDC-IDRI-0041', 'LIDC-IDRI-0042', 'LIDC-IDRI-0043', 'LIDC-IDRI-0044', 'LIDC-IDRI-0045', 'LIDC-IDRI-0046', 'LIDC-IDRI-0047', 'LIDC-IDRI-0048', 'LIDC-IDRI-0049', 'LIDC-IDRI-0050', 'LIDC-IDRI-0051', 'LIDC-IDRI-0052', 'LIDC-IDRI-0053', 'LIDC-IDRI-0054', 'LIDC-IDRI-0055', 'LIDC-IDRI-0056', 'LIDC-IDRI-0057', 'LIDC-IDRI-0058', 'LIDC-IDRI-0059', 'LIDC-IDRI-0060', 'LIDC-IDRI-0061', 'LIDC-IDRI-0062', 'LIDC-IDRI-0063', 'LIDC-IDRI-0064', 'LIDC-IDRI-0065', 'LIDC-IDRI-0066', 'LIDC-IDRI-0067', 'LIDC-IDRI-0068', 'LIDC-IDRI-0069', 'LIDC-IDRI-0070', 'LIDC-IDRI-0071', 'LIDC-IDRI-0072', 'LIDC-IDRI-0073', 'LIDC-IDRI-0074', 'LIDC-IDRI-0075', 'LIDC-IDRI-0076', 'LIDC-IDRI-0077', 'LIDC-IDRI-0078', 'LIDC-IDRI-0079', 'LIDC-IDRI-0080', 'LIDC-IDRI-0081', 'LIDC-IDRI-0082', 'LIDC-IDRI-0083', 'LIDC-IDRI-0084', 'LIDC-IDRI-0085', 'LIDC-IDRI-0086', 'LIDC-IDRI-0087', 'LIDC-IDRI-0088', 'LIDC-IDRI-0089', 'LIDC-IDRI-0090', 'LIDC-IDRI-0091', 'LIDC-IDRI-0092', 'LIDC-IDRI-0093', 'LIDC-IDRI-0094', 'LIDC-IDRI-0095', 'LIDC-IDRI-0096', 'LIDC-IDRI-0097', 'LIDC-IDRI-0098', 'LIDC-IDRI-0099', 'LIDC-IDRI-0100', 'LIDC-IDRI-0101', 'LIDC-IDRI-0102', 'LIDC-IDRI-0103', 'LIDC-IDRI-0104', 'LIDC-IDRI-0105', 'LIDC-IDRI-0106', 'LIDC-IDRI-0107', 'LIDC-IDRI-0108', 'LIDC-IDRI-0109', 'LIDC-IDRI-0110', 'LIDC-IDRI-0111', 'LIDC-IDRI-0112', 'LIDC-IDRI-0113', 'LIDC-IDRI-0114', 'LIDC-IDRI-0115', 'LIDC-IDRI-0116', 'LIDC-IDRI-0117', 'LIDC-IDRI-0118', 'LIDC-IDRI-0119', 'LIDC-IDRI-0120', 'LIDC-IDRI-0121', 'LIDC-IDRI-0122', 'LIDC-IDRI-0123', 'LIDC-IDRI-0124', 'LIDC-IDRI-0125', 'LIDC-IDRI-0126', 'LIDC-IDRI-0127', 'LIDC-IDRI-0128', 'LIDC-IDRI-0129', 'LIDC-IDRI-0130', 'LIDC-IDRI-0131', 'LIDC-IDRI-0132', 'LIDC-IDRI-0133', 'LIDC-IDRI-0134', 'LIDC-IDRI-0135', 'LIDC-IDRI-0136', 'LIDC-IDRI-0137', 'LIDC-IDRI-0138', 'LIDC-IDRI-0139', 'LIDC-IDRI-0140', 'LIDC-IDRI-0141', 'LIDC-IDRI-0142', 'LIDC-IDRI-0143', 'LIDC-IDRI-0144', 'LIDC-IDRI-0145', 'LIDC-IDRI-0146', 'LIDC-IDRI-0147', 'LIDC-IDRI-0148', 'LIDC-IDRI-0149', 'LIDC-IDRI-0150', 'LIDC-IDRI-0151', 'LIDC-IDRI-0152', 'LIDC-IDRI-0153', 'LIDC-IDRI-0154', 'LIDC-IDRI-0155', 'LIDC-IDRI-0156', 'LIDC-IDRI-0157', 'LIDC-IDRI-0158', 'LIDC-IDRI-0159', 'LIDC-IDRI-0160', 'LIDC-IDRI-0161', 'LIDC-IDRI-0162', 'LIDC-IDRI-0163', 'LIDC-IDRI-0164', 'LIDC-IDRI-0165', 'LIDC-IDRI-0166', 'LIDC-IDRI-0167', 'LIDC-IDRI-0168', 'LIDC-IDRI-0169', 'LIDC-IDRI-0170', 'LIDC-IDRI-0171', 'LIDC-IDRI-0172', 'LIDC-IDRI-0173', 'LIDC-IDRI-0174', 'LIDC-IDRI-0175', 'LIDC-IDRI-0176', 'LIDC-IDRI-0177', 'LIDC-IDRI-0178', 'LIDC-IDRI-0179', 'LIDC-IDRI-0180', 'LIDC-IDRI-0181', 'LIDC-IDRI-0182', 'LIDC-IDRI-0183', 'LIDC-IDRI-0184', 'LIDC-IDRI-0185', 'LIDC-IDRI-0186', 'LIDC-IDRI-0187', 'LIDC-IDRI-0188', 'LIDC-IDRI-0189', 'LIDC-IDRI-0190', 'LIDC-IDRI-0191', 'LIDC-IDRI-0192', 'LIDC-IDRI-0193', 'LIDC-IDRI-0194', 'LIDC-IDRI-0195', 'LIDC-IDRI-0196', 'LIDC-IDRI-0197', 'LIDC-IDRI-0198', 'LIDC-IDRI-0199', 'LIDC-IDRI-0200', 'LIDC-IDRI-0201', 'LIDC-IDRI-0202', 'LIDC-IDRI-0203', 'LIDC-IDRI-0204', 'LIDC-IDRI-0205', 'LIDC-IDRI-0206', 'LIDC-IDRI-0207', 'LIDC-IDRI-0208', 'LIDC-IDRI-0209', 'LIDC-IDRI-0210', 'LIDC-IDRI-0211', 'LIDC-IDRI-0212', 'LIDC-IDRI-0213', 'LIDC-IDRI-0214', 'LIDC-IDRI-0215', 'LIDC-IDRI-0216', 'LIDC-IDRI-0217', 'LIDC-IDRI-0218', 'LIDC-IDRI-0219', 'LIDC-IDRI-0220', 'LIDC-IDRI-0221', 'LIDC-IDRI-0222', 'LIDC-IDRI-0223', 'LIDC-IDRI-0224', 'LIDC-IDRI-0225', 'LIDC-IDRI-0226', 'LIDC-IDRI-0227', 'LIDC-IDRI-0228', 'LIDC-IDRI-0229', 'LIDC-IDRI-0230', 'LIDC-IDRI-0231', 'LIDC-IDRI-0232', 'LIDC-IDRI-0233', 'LIDC-IDRI-0234', 'LIDC-IDRI-0235', 'LIDC-IDRI-0236', 'LIDC-IDRI-0237', 'LIDC-IDRI-0239', 'LIDC-IDRI-0240', 'LIDC-IDRI-0241', 'LIDC-IDRI-0242', 'LIDC-IDRI-0243', 'LIDC-IDRI-0244', 'LIDC-IDRI-0245', 'LIDC-IDRI-0246', 'LIDC-IDRI-0247', 'LIDC-IDRI-0248', 'LIDC-IDRI-0249', 'LIDC-IDRI-0250', 'LIDC-IDRI-0251', 'LIDC-IDRI-0252', 'LIDC-IDRI-0253', 'LIDC-IDRI-0254', 'LIDC-IDRI-0255', 'LIDC-IDRI-0256', 'LIDC-IDRI-0257', 'LIDC-IDRI-0258', 'LIDC-IDRI-0259', 'LIDC-IDRI-0260', 'LIDC-IDRI-0261', 'LIDC-IDRI-0262', 'LIDC-IDRI-0263', 'LIDC-IDRI-0264', 'LIDC-IDRI-0265', 'LIDC-IDRI-0266', 'LIDC-IDRI-0267', 'LIDC-IDRI-0268', 'LIDC-IDRI-0269', 'LIDC-IDRI-0270', 'LIDC-IDRI-0271', 'LIDC-IDRI-0272', 'LIDC-IDRI-0273', 'LIDC-IDRI-0274', 'LIDC-IDRI-0275', 'LIDC-IDRI-0276', 'LIDC-IDRI-0277', 'LIDC-IDRI-0278', 'LIDC-IDRI-0279', 'LIDC-IDRI-0280', 'LIDC-IDRI-0281', 'LIDC-IDRI-0282', 'LIDC-IDRI-0283', 'LIDC-IDRI-0284', 'LIDC-IDRI-0285', 'LIDC-IDRI-0286', 'LIDC-IDRI-0287', 'LIDC-IDRI-0288', 'LIDC-IDRI-0289', 'LIDC-IDRI-0290', 'LIDC-IDRI-0291', 'LIDC-IDRI-0292', 'LIDC-IDRI-0293', 'LIDC-IDRI-0294', 'LIDC-IDRI-0295', 'LIDC-IDRI-0296', 'LIDC-IDRI-0297', 'LIDC-IDRI-0298', 'LIDC-IDRI-0299', 'LIDC-IDRI-0300', 'LIDC-IDRI-0301', 'LIDC-IDRI-0302', 'LIDC-IDRI-0303', 'LIDC-IDRI-0304', 'LIDC-IDRI-0305', 'LIDC-IDRI-0306', 'LIDC-IDRI-0307', 'LIDC-IDRI-0308', 'LIDC-IDRI-0309', 'LIDC-IDRI-0310', 'LIDC-IDRI-0311', 'LIDC-IDRI-0312', 'LIDC-IDRI-0313', 'LIDC-IDRI-0314', 'LIDC-IDRI-0315', 'LIDC-IDRI-0316', 'LIDC-IDRI-0317', 'LIDC-IDRI-0318', 'LIDC-IDRI-0319', 'LIDC-IDRI-0320', 'LIDC-IDRI-0321', 'LIDC-IDRI-0322', 'LIDC-IDRI-0323', 'LIDC-IDRI-0324', 'LIDC-IDRI-0325', 'LIDC-IDRI-0326', 'LIDC-IDRI-0327', 'LIDC-IDRI-0328', 'LIDC-IDRI-0329', 'LIDC-IDRI-0330', 'LIDC-IDRI-0331', 'LIDC-IDRI-0332', 'LIDC-IDRI-0333', 'LIDC-IDRI-0334', 'LIDC-IDRI-0335', 'LIDC-IDRI-0336', 'LIDC-IDRI-0337', 'LIDC-IDRI-0338', 'LIDC-IDRI-0339', 'LIDC-IDRI-0340', 'LIDC-IDRI-0341', 'LIDC-IDRI-0342', 'LIDC-IDRI-0343', 'LIDC-IDRI-0344', 'LIDC-IDRI-0345', 'LIDC-IDRI-0346', 'LIDC-IDRI-0347', 'LIDC-IDRI-0348', 'LIDC-IDRI-0349', 'LIDC-IDRI-0350', 'LIDC-IDRI-0351', 'LIDC-IDRI-0352', 'LIDC-IDRI-0353', 'LIDC-IDRI-0354', 'LIDC-IDRI-0355', 'LIDC-IDRI-0356', 'LIDC-IDRI-0357', 'LIDC-IDRI-0358', 'LIDC-IDRI-0359', 'LIDC-IDRI-0360', 'LIDC-IDRI-0361', 'LIDC-IDRI-0362', 'LIDC-IDRI-0363', 'LIDC-IDRI-0364', 'LIDC-IDRI-0365', 'LIDC-IDRI-0366', 'LIDC-IDRI-0367', 'LIDC-IDRI-0368', 'LIDC-IDRI-0369', 'LIDC-IDRI-0370', 'LIDC-IDRI-0371', 'LIDC-IDRI-0372', 'LIDC-IDRI-0373', 'LIDC-IDRI-0374', 'LIDC-IDRI-0375', 'LIDC-IDRI-0376', 'LIDC-IDRI-0377', 'LIDC-IDRI-0378', 'LIDC-IDRI-0379', 'LIDC-IDRI-0380', 'LIDC-IDRI-0381', 'LIDC-IDRI-0382', 'LIDC-IDRI-0383', 'LIDC-IDRI-0384', 'LIDC-IDRI-0385', 'LIDC-IDRI-0386', 'LIDC-IDRI-0387', 'LIDC-IDRI-0388', 'LIDC-IDRI-0389', 'LIDC-IDRI-0390', 'LIDC-IDRI-0391', 'LIDC-IDRI-0392', 'LIDC-IDRI-0393', 'LIDC-IDRI-0394', 'LIDC-IDRI-0395', 'LIDC-IDRI-0396', 'LIDC-IDRI-0397', 'LIDC-IDRI-0398', 'LIDC-IDRI-0399', 'LIDC-IDRI-0400', 'LIDC-IDRI-0401', 'LIDC-IDRI-0402', 'LIDC-IDRI-0403', 'LIDC-IDRI-0404', 'LIDC-IDRI-0405', 'LIDC-IDRI-0406', 'LIDC-IDRI-0407', 'LIDC-IDRI-0408', 'LIDC-IDRI-0409', 'LIDC-IDRI-0410', 'LIDC-IDRI-0411', 'LIDC-IDRI-0412', 'LIDC-IDRI-0413', 'LIDC-IDRI-0414', 'LIDC-IDRI-0415', 'LIDC-IDRI-0416', 'LIDC-IDRI-0417', 'LIDC-IDRI-0418', 'LIDC-IDRI-0419', 'LIDC-IDRI-0420', 'LIDC-IDRI-0421', 'LIDC-IDRI-0422', 'LIDC-IDRI-0423', 'LIDC-IDRI-0424', 'LIDC-IDRI-0425', 'LIDC-IDRI-0426', 'LIDC-IDRI-0427', 'LIDC-IDRI-0428', 'LIDC-IDRI-0429', 'LIDC-IDRI-0430', 'LIDC-IDRI-0431', 'LIDC-IDRI-0432', 'LIDC-IDRI-0433', 'LIDC-IDRI-0434', 'LIDC-IDRI-0435', 'LIDC-IDRI-0436', 'LIDC-IDRI-0437', 'LIDC-IDRI-0438', 'LIDC-IDRI-0439', 'LIDC-IDRI-0440', 'LIDC-IDRI-0441', 'LIDC-IDRI-0442', 'LIDC-IDRI-0443', 'LIDC-IDRI-0444', 'LIDC-IDRI-0445', 'LIDC-IDRI-0446', 'LIDC-IDRI-0447', 'LIDC-IDRI-0448', 'LIDC-IDRI-0449', 'LIDC-IDRI-0450', 'LIDC-IDRI-0451', 'LIDC-IDRI-0452', 'LIDC-IDRI-0453', 'LIDC-IDRI-0454', 'LIDC-IDRI-0455', 'LIDC-IDRI-0456', 'LIDC-IDRI-0457', 'LIDC-IDRI-0458', 'LIDC-IDRI-0459', 'LIDC-IDRI-0460', 'LIDC-IDRI-0461', 'LIDC-IDRI-0462', 'LIDC-IDRI-0463', 'LIDC-IDRI-0464', 'LIDC-IDRI-0465', 'LIDC-IDRI-0466', 'LIDC-IDRI-0467', 'LIDC-IDRI-0468', 'LIDC-IDRI-0469', 'LIDC-IDRI-0470', 'LIDC-IDRI-0471', 'LIDC-IDRI-0472', 'LIDC-IDRI-0473', 'LIDC-IDRI-0474', 'LIDC-IDRI-0475', 'LIDC-IDRI-0476', 'LIDC-IDRI-0477', 'LIDC-IDRI-0478', 'LIDC-IDRI-0479', 'LIDC-IDRI-0480', 'LIDC-IDRI-0481', 'LIDC-IDRI-0482', 'LIDC-IDRI-0483', 'LIDC-IDRI-0484', 'LIDC-IDRI-0485', 'LIDC-IDRI-0486', 'LIDC-IDRI-0487', 'LIDC-IDRI-0488', 'LIDC-IDRI-0489', 'LIDC-IDRI-0490', 'LIDC-IDRI-0491', 'LIDC-IDRI-0492', 'LIDC-IDRI-0493', 'LIDC-IDRI-0494', 'LIDC-IDRI-0495', 'LIDC-IDRI-0496', 'LIDC-IDRI-0497', 'LIDC-IDRI-0498', 'LIDC-IDRI-0499', 'LIDC-IDRI-0500', 'LIDC-IDRI-0501', 'LIDC-IDRI-0502', 'LIDC-IDRI-0503', 'LIDC-IDRI-0504', 'LIDC-IDRI-0505', 'LIDC-IDRI-0506', 'LIDC-IDRI-0507', 'LIDC-IDRI-0508', 'LIDC-IDRI-0509', 'LIDC-IDRI-0510', 'LIDC-IDRI-0511', 'LIDC-IDRI-0512', 'LIDC-IDRI-0513', 'LIDC-IDRI-0514', 'LIDC-IDRI-0515', 'LIDC-IDRI-0516', 'LIDC-IDRI-0517', 'LIDC-IDRI-0518', 'LIDC-IDRI-0519', 'LIDC-IDRI-0520', 'LIDC-IDRI-0521', 'LIDC-IDRI-0522', 'LIDC-IDRI-0523', 'LIDC-IDRI-0524', 'LIDC-IDRI-0525', 'LIDC-IDRI-0526', 'LIDC-IDRI-0527', 'LIDC-IDRI-0528', 'LIDC-IDRI-0529', 'LIDC-IDRI-0530', 'LIDC-IDRI-0531', 'LIDC-IDRI-0532', 'LIDC-IDRI-0533', 'LIDC-IDRI-0534', 'LIDC-IDRI-0535', 'LIDC-IDRI-0536', 'LIDC-IDRI-0537', 'LIDC-IDRI-0538', 'LIDC-IDRI-0539', 'LIDC-IDRI-0540', 'LIDC-IDRI-0541', 'LIDC-IDRI-0542', 'LIDC-IDRI-0543', 'LIDC-IDRI-0544', 'LIDC-IDRI-0545', 'LIDC-IDRI-0546', 'LIDC-IDRI-0547', 'LIDC-IDRI-0548', 'LIDC-IDRI-0549', 'LIDC-IDRI-0550', 'LIDC-IDRI-0551', 'LIDC-IDRI-0552', 'LIDC-IDRI-0553', 'LIDC-IDRI-0554', 'LIDC-IDRI-0555', 'LIDC-IDRI-0556', 'LIDC-IDRI-0557', 'LIDC-IDRI-0558', 'LIDC-IDRI-0559', 'LIDC-IDRI-0560', 'LIDC-IDRI-0561', 'LIDC-IDRI-0562', 'LIDC-IDRI-0563', 'LIDC-IDRI-0564', 'LIDC-IDRI-0565', 'LIDC-IDRI-0566', 'LIDC-IDRI-0567', 'LIDC-IDRI-0568', 'LIDC-IDRI-0569', 'LIDC-IDRI-0570', 'LIDC-IDRI-0571', 'LIDC-IDRI-0572', 'LIDC-IDRI-0573', 'LIDC-IDRI-0574', 'LIDC-IDRI-0575', 'LIDC-IDRI-0576', 'LIDC-IDRI-0577', 'LIDC-IDRI-0578', 'LIDC-IDRI-0579', 'LIDC-IDRI-0580', 'LIDC-IDRI-0581', 'LIDC-IDRI-0582', 'LIDC-IDRI-0583', 'LIDC-IDRI-0584', 'LIDC-IDRI-0586', 'LIDC-IDRI-0587', 'LIDC-IDRI-0588', 'LIDC-IDRI-0589', 'LIDC-IDRI-0590', 'LIDC-IDRI-0591', 'LIDC-IDRI-0592', 'LIDC-IDRI-0593', 'LIDC-IDRI-0594', 'LIDC-IDRI-0595', 'LIDC-IDRI-0596', 'LIDC-IDRI-0597', 'LIDC-IDRI-0598', 'LIDC-IDRI-0599', 'LIDC-IDRI-0600', 'LIDC-IDRI-0601', 'LIDC-IDRI-0602', 'LIDC-IDRI-0603', 'LIDC-IDRI-0604', 'LIDC-IDRI-0605', 'LIDC-IDRI-0606', 'LIDC-IDRI-0607', 'LIDC-IDRI-0608', 'LIDC-IDRI-0609', 'LIDC-IDRI-0610', 'LIDC-IDRI-0611', 'LIDC-IDRI-0612', 'LIDC-IDRI-0613', 'LIDC-IDRI-0614', 'LIDC-IDRI-0615', 'LIDC-IDRI-0616', 'LIDC-IDRI-0617', 'LIDC-IDRI-0618', 'LIDC-IDRI-0619', 'LIDC-IDRI-0620', 'LIDC-IDRI-0621', 'LIDC-IDRI-0622', 'LIDC-IDRI-0623', 'LIDC-IDRI-0624', 'LIDC-IDRI-0625', 'LIDC-IDRI-0626', 'LIDC-IDRI-0627', 'LIDC-IDRI-0628', 'LIDC-IDRI-0629', 'LIDC-IDRI-0630', 'LIDC-IDRI-0631', 'LIDC-IDRI-0632', 'LIDC-IDRI-0633', 'LIDC-IDRI-0634', 'LIDC-IDRI-0635', 'LIDC-IDRI-0636', 'LIDC-IDRI-0637', 'LIDC-IDRI-0638', 'LIDC-IDRI-0639', 'LIDC-IDRI-0640', 'LIDC-IDRI-0641', 'LIDC-IDRI-0642', 'LIDC-IDRI-0643', 'LIDC-IDRI-0644', 'LIDC-IDRI-0645', 'LIDC-IDRI-0646', 'LIDC-IDRI-0647', 'LIDC-IDRI-0648', 'LIDC-IDRI-0649', 'LIDC-IDRI-0650', 'LIDC-IDRI-0651', 'LIDC-IDRI-0652', 'LIDC-IDRI-0653', 'LIDC-IDRI-0654', 'LIDC-IDRI-0655', 'LIDC-IDRI-0656', 'LIDC-IDRI-0657', 'LIDC-IDRI-0658', 'LIDC-IDRI-0659', 'LIDC-IDRI-0660', 'LIDC-IDRI-0661', 'LIDC-IDRI-0662', 'LIDC-IDRI-0663', 'LIDC-IDRI-0664', 'LIDC-IDRI-0665', 'LIDC-IDRI-0666', 'LIDC-IDRI-0667', 'LIDC-IDRI-0668', 'LIDC-IDRI-0669', 'LIDC-IDRI-0670', 'LIDC-IDRI-0671', 'LIDC-IDRI-0672', 'LIDC-IDRI-0673', 'LIDC-IDRI-0674', 'LIDC-IDRI-0675', 'LIDC-IDRI-0676', 'LIDC-IDRI-0677', 'LIDC-IDRI-0678', 'LIDC-IDRI-0679', 'LIDC-IDRI-0680', 'LIDC-IDRI-0681', 'LIDC-IDRI-0682', 'LIDC-IDRI-0683', 'LIDC-IDRI-0684', 'LIDC-IDRI-0685', 'LIDC-IDRI-0686', 'LIDC-IDRI-0687', 'LIDC-IDRI-0688', 'LIDC-IDRI-0689', 'LIDC-IDRI-0690', 'LIDC-IDRI-0691', 'LIDC-IDRI-0692', 'LIDC-IDRI-0693', 'LIDC-IDRI-0694', 'LIDC-IDRI-0695', 'LIDC-IDRI-0696', 'LIDC-IDRI-0697', 'LIDC-IDRI-0698', 'LIDC-IDRI-0699', 'LIDC-IDRI-0700', 'LIDC-IDRI-0701', 'LIDC-IDRI-0702', 'LIDC-IDRI-0703', 'LIDC-IDRI-0704', 'LIDC-IDRI-0705', 'LIDC-IDRI-0706', 'LIDC-IDRI-0707', 'LIDC-IDRI-0708', 'LIDC-IDRI-0709', 'LIDC-IDRI-0710', 'LIDC-IDRI-0711', 'LIDC-IDRI-0712', 'LIDC-IDRI-0713', 'LIDC-IDRI-0714', 'LIDC-IDRI-0715', 'LIDC-IDRI-0716', 'LIDC-IDRI-0717', 'LIDC-IDRI-0718', 'LIDC-IDRI-0719', 'LIDC-IDRI-0720', 'LIDC-IDRI-0721', 'LIDC-IDRI-0722', 'LIDC-IDRI-0723', 'LIDC-IDRI-0724', 'LIDC-IDRI-0725', 'LIDC-IDRI-0726', 'LIDC-IDRI-0727', 'LIDC-IDRI-0728', 'LIDC-IDRI-0729', 'LIDC-IDRI-0730', 'LIDC-IDRI-0731', 'LIDC-IDRI-0732', 'LIDC-IDRI-0733', 'LIDC-IDRI-0734', 'LIDC-IDRI-0735', 'LIDC-IDRI-0736', 'LIDC-IDRI-0737', 'LIDC-IDRI-0738', 'LIDC-IDRI-0739', 'LIDC-IDRI-0740', 'LIDC-IDRI-0741', 'LIDC-IDRI-0742', 'LIDC-IDRI-0743', 'LIDC-IDRI-0744', 'LIDC-IDRI-0745', 'LIDC-IDRI-0746', 'LIDC-IDRI-0747', 'LIDC-IDRI-0748', 'LIDC-IDRI-0749', 'LIDC-IDRI-0750', 'LIDC-IDRI-0751', 'LIDC-IDRI-0752', 'LIDC-IDRI-0753', 'LIDC-IDRI-0754', 'LIDC-IDRI-0755', 'LIDC-IDRI-0756', 'LIDC-IDRI-0757', 'LIDC-IDRI-0758', 'LIDC-IDRI-0759', 'LIDC-IDRI-0760', 'LIDC-IDRI-0761', 'LIDC-IDRI-0762', 'LIDC-IDRI-0763', 'LIDC-IDRI-0764', 'LIDC-IDRI-0765', 'LIDC-IDRI-0766', 'LIDC-IDRI-0767', 'LIDC-IDRI-0768', 'LIDC-IDRI-0769', 'LIDC-IDRI-0770', 'LIDC-IDRI-0771', 'LIDC-IDRI-0772', 'LIDC-IDRI-0773', 'LIDC-IDRI-0774', 'LIDC-IDRI-0775', 'LIDC-IDRI-0776', 'LIDC-IDRI-0777', 'LIDC-IDRI-0778', 'LIDC-IDRI-0779', 'LIDC-IDRI-0780', 'LIDC-IDRI-0781', 'LIDC-IDRI-0782', 'LIDC-IDRI-0783', 'LIDC-IDRI-0784', 'LIDC-IDRI-0785', 'LIDC-IDRI-0786', 'LIDC-IDRI-0787', 'LIDC-IDRI-0788', 'LIDC-IDRI-0789', 'LIDC-IDRI-0790', 'LIDC-IDRI-0791', 'LIDC-IDRI-0792', 'LIDC-IDRI-0793', 'LIDC-IDRI-0794', 'LIDC-IDRI-0795', 'LIDC-IDRI-0796', 'LIDC-IDRI-0797', 'LIDC-IDRI-0798', 'LIDC-IDRI-0799', 'LIDC-IDRI-0800', 'LIDC-IDRI-0801', 'LIDC-IDRI-0802', 'LIDC-IDRI-0803', 'LIDC-IDRI-0804', 'LIDC-IDRI-0805', 'LIDC-IDRI-0806', 'LIDC-IDRI-0807', 'LIDC-IDRI-0808', 'LIDC-IDRI-0809', 'LIDC-IDRI-0810', 'LIDC-IDRI-0811', 'LIDC-IDRI-0812', 'LIDC-IDRI-0813', 'LIDC-IDRI-0814', 'LIDC-IDRI-0815', 'LIDC-IDRI-0816', 'LIDC-IDRI-0817', 'LIDC-IDRI-0818', 'LIDC-IDRI-0819', 'LIDC-IDRI-0820', 'LIDC-IDRI-0821', 'LIDC-IDRI-0822', 'LIDC-IDRI-0823', 'LIDC-IDRI-0824', 'LIDC-IDRI-0825', 'LIDC-IDRI-0826', 'LIDC-IDRI-0827', 'LIDC-IDRI-0828', 'LIDC-IDRI-0829', 'LIDC-IDRI-0830', 'LIDC-IDRI-0831', 'LIDC-IDRI-0832', 'LIDC-IDRI-0833', 'LIDC-IDRI-0834', 'LIDC-IDRI-0835', 'LIDC-IDRI-0836', 'LIDC-IDRI-0837', 'LIDC-IDRI-0838', 'LIDC-IDRI-0839', 'LIDC-IDRI-0840', 'LIDC-IDRI-0841', 'LIDC-IDRI-0842', 'LIDC-IDRI-0843', 'LIDC-IDRI-0844', 'LIDC-IDRI-0845', 'LIDC-IDRI-0846', 'LIDC-IDRI-0847', 'LIDC-IDRI-0848', 'LIDC-IDRI-0849', 'LIDC-IDRI-0850', 'LIDC-IDRI-0851', 'LIDC-IDRI-0852', 'LIDC-IDRI-0853', 'LIDC-IDRI-0854', 'LIDC-IDRI-0855', 'LIDC-IDRI-0856', 'LIDC-IDRI-0857', 'LIDC-IDRI-0858', 'LIDC-IDRI-0859', 'LIDC-IDRI-0860', 'LIDC-IDRI-0861', 'LIDC-IDRI-0862', 'LIDC-IDRI-0863', 'LIDC-IDRI-0864', 'LIDC-IDRI-0865', 'LIDC-IDRI-0866', 'LIDC-IDRI-0867', 'LIDC-IDRI-0868', 'LIDC-IDRI-0869', 'LIDC-IDRI-0870', 'LIDC-IDRI-0871', 'LIDC-IDRI-0872', 'LIDC-IDRI-0873', 'LIDC-IDRI-0874', 'LIDC-IDRI-0875', 'LIDC-IDRI-0876', 'LIDC-IDRI-0877', 'LIDC-IDRI-0878', 'LIDC-IDRI-0879', 'LIDC-IDRI-0880', 'LIDC-IDRI-0881', 'LIDC-IDRI-0882', 'LIDC-IDRI-0883', 'LIDC-IDRI-0884', 'LIDC-IDRI-0885', 'LIDC-IDRI-0886', 'LIDC-IDRI-0887', 'LIDC-IDRI-0888', 'LIDC-IDRI-0889', 'LIDC-IDRI-0890', 'LIDC-IDRI-0891', 'LIDC-IDRI-0892', 'LIDC-IDRI-0893', 'LIDC-IDRI-0894', 'LIDC-IDRI-0895', 'LIDC-IDRI-0896', 'LIDC-IDRI-0897', 'LIDC-IDRI-0898', 'LIDC-IDRI-0899', 'LIDC-IDRI-0900', 'LIDC-IDRI-0901', 'LIDC-IDRI-0902', 'LIDC-IDRI-0903', 'LIDC-IDRI-0904', 'LIDC-IDRI-0905', 'LIDC-IDRI-0906', 'LIDC-IDRI-0907', 'LIDC-IDRI-0908', 'LIDC-IDRI-0909', 'LIDC-IDRI-0910', 'LIDC-IDRI-0911', 'LIDC-IDRI-0912', 'LIDC-IDRI-0913', 'LIDC-IDRI-0914', 'LIDC-IDRI-0915', 'LIDC-IDRI-0916', 'LIDC-IDRI-0917', 'LIDC-IDRI-0918', 'LIDC-IDRI-0919', 'LIDC-IDRI-0920', 'LIDC-IDRI-0921', 'LIDC-IDRI-0922', 'LIDC-IDRI-0923', 'LIDC-IDRI-0924', 'LIDC-IDRI-0925', 'LIDC-IDRI-0926', 'LIDC-IDRI-0927', 'LIDC-IDRI-0928', 'LIDC-IDRI-0929', 'LIDC-IDRI-0930', 'LIDC-IDRI-0931', 'LIDC-IDRI-0932', 'LIDC-IDRI-0933', 'LIDC-IDRI-0934', 'LIDC-IDRI-0935', 'LIDC-IDRI-0936', 'LIDC-IDRI-0937', 'LIDC-IDRI-0938', 'LIDC-IDRI-0939', 'LIDC-IDRI-0940', 'LIDC-IDRI-0941', 'LIDC-IDRI-0942', 'LIDC-IDRI-0943', 'LIDC-IDRI-0944', 'LIDC-IDRI-0945', 'LIDC-IDRI-0946', 'LIDC-IDRI-0947', 'LIDC-IDRI-0948', 'LIDC-IDRI-0949', 'LIDC-IDRI-0950', 'LIDC-IDRI-0951', 'LIDC-IDRI-0952', 'LIDC-IDRI-0953', 'LIDC-IDRI-0954', 'LIDC-IDRI-0955', 'LIDC-IDRI-0956', 'LIDC-IDRI-0957', 'LIDC-IDRI-0958', 'LIDC-IDRI-0959', 'LIDC-IDRI-0960', 'LIDC-IDRI-0961', 'LIDC-IDRI-0962', 'LIDC-IDRI-0963', 'LIDC-IDRI-0964', 'LIDC-IDRI-0965', 'LIDC-IDRI-0966', 'LIDC-IDRI-0967', 'LIDC-IDRI-0968', 'LIDC-IDRI-0969', 'LIDC-IDRI-0970', 'LIDC-IDRI-0971', 'LIDC-IDRI-0972', 'LIDC-IDRI-0973', 'LIDC-IDRI-0974', 'LIDC-IDRI-0975', 'LIDC-IDRI-0976', 'LIDC-IDRI-0977', 'LIDC-IDRI-0978', 'LIDC-IDRI-0979', 'LIDC-IDRI-0980', 'LIDC-IDRI-0981', 'LIDC-IDRI-0982', 'LIDC-IDRI-0983', 'LIDC-IDRI-0984', 'LIDC-IDRI-0985', 'LIDC-IDRI-0986', 'LIDC-IDRI-0987', 'LIDC-IDRI-0988', 'LIDC-IDRI-0989', 'LIDC-IDRI-0990', 'LIDC-IDRI-0991', 'LIDC-IDRI-0992', 'LIDC-IDRI-0993', 'LIDC-IDRI-0994', 'LIDC-IDRI-0995', 'LIDC-IDRI-0996', 'LIDC-IDRI-0997', 'LIDC-IDRI-0998', 'LIDC-IDRI-0999', 'LIDC-IDRI-1000', 'LIDC-IDRI-1001', 'LIDC-IDRI-1002', 'LIDC-IDRI-1003', 'LIDC-IDRI-1004', 'LIDC-IDRI-1005', 'LIDC-IDRI-1006', 'LIDC-IDRI-1007', 'LIDC-IDRI-1008', 'LIDC-IDRI-1009', 'LIDC-IDRI-1010', 'LIDC-IDRI-1011', 'LIDC-IDRI-1012'])\n"
     ]
    }
   ],
   "source": [
    "print(\"Show the case names: \"+str(LIDC_IDRI_raw_img_dict.keys()))"
   ]
  },
  {
   "cell_type": "code",
   "execution_count": 12,
   "id": "4775c93e",
   "metadata": {},
   "outputs": [],
   "source": [
    "# set output path\n",
    "\n",
    "output_image_path = \"LIDC-IDRI\""
   ]
  },
  {
   "cell_type": "code",
   "execution_count": 13,
   "id": "ce590b3e",
   "metadata": {},
   "outputs": [
    {
     "name": "stdout",
     "output_type": "stream",
     "text": [
      "progress: 0.9939759036144579; ./data/Airway/LIDC-IDRI/LIDC-IDRI-1012/01-01-2000-1-CHEST-34668/32231.000000-NA-60224/1-166.dcmmm15/1-133.dcmmm252.dcmmmmcmmmmdcmmmm1-465.dcmmmm\r"
     ]
    }
   ],
   "source": [
    "if not os.path.exists(output_image_path):\n",
    "    os.mkdir(output_image_path)\n",
    "    \n",
    "for case in LIDC_IDRI_raw_img_dict.keys():\n",
    "    img_3d = get_3d_img_for_one_case(LIDC_IDRI_raw_img_dict[case])\n",
    "    sitk.WriteImage(sitk.GetImageFromArray(img_3d),\n",
    "                    output_image_path+\"/\"+case+\".nii.gz\")"
   ]
  },
  {
   "attachments": {},
   "cell_type": "markdown",
   "id": "8e78ff81",
   "metadata": {},
   "source": [
    "### for the labeled LIDC-IDRI images"
   ]
  },
  {
   "cell_type": "code",
   "execution_count": 15,
   "id": "8b73eaef",
   "metadata": {},
   "outputs": [
    {
     "ename": "FileNotFoundError",
     "evalue": "[WinError 3] 지정된 경로를 찾을 수 없습니다: './data/Airway/LIDC-IDRI_annotation'",
     "output_type": "error",
     "traceback": [
      "\u001b[1;31m---------------------------------------------------------------------------\u001b[0m",
      "\u001b[1;31mFileNotFoundError\u001b[0m                         Traceback (most recent call last)",
      "\u001b[1;32md:\\NaviAirway\\dataset_preprocess_LIDC-IDRI.ipynb Cell 13\u001b[0m in \u001b[0;36m<cell line: 3>\u001b[1;34m()\u001b[0m\n\u001b[0;32m      <a href='vscode-notebook-cell:/d%3A/NaviAirway/dataset_preprocess_LIDC-IDRI.ipynb#X15sZmlsZQ%3D%3D?line=0'>1</a>\u001b[0m LIDC_IDRI_anno_path \u001b[39m=\u001b[39m \u001b[39m\"\u001b[39m\u001b[39m./data/Airway/LIDC-IDRI_annotation\u001b[39m\u001b[39m\"\u001b[39m\n\u001b[1;32m----> <a href='vscode-notebook-cell:/d%3A/NaviAirway/dataset_preprocess_LIDC-IDRI.ipynb#X15sZmlsZQ%3D%3D?line=2'>3</a>\u001b[0m anno_names \u001b[39m=\u001b[39m os\u001b[39m.\u001b[39;49mlistdir(LIDC_IDRI_anno_path)\n\u001b[0;32m      <a href='vscode-notebook-cell:/d%3A/NaviAirway/dataset_preprocess_LIDC-IDRI.ipynb#X15sZmlsZQ%3D%3D?line=3'>4</a>\u001b[0m \u001b[39mfor\u001b[39;00m idx, name \u001b[39min\u001b[39;00m \u001b[39menumerate\u001b[39m(anno_names):\n\u001b[0;32m      <a href='vscode-notebook-cell:/d%3A/NaviAirway/dataset_preprocess_LIDC-IDRI.ipynb#X15sZmlsZQ%3D%3D?line=4'>5</a>\u001b[0m     anno_names[idx]\u001b[39m=\u001b[39mname\u001b[39m.\u001b[39msplit(\u001b[39m\"\u001b[39m\u001b[39m.nii.gz\u001b[39m\u001b[39m\"\u001b[39m)[\u001b[39m0\u001b[39m]\n",
      "\u001b[1;31mFileNotFoundError\u001b[0m: [WinError 3] 지정된 경로를 찾을 수 없습니다: './data/Airway/LIDC-IDRI_annotation'"
     ]
    }
   ],
   "source": [
    "LIDC_IDRI_anno_path = \"./data/Airway/LIDC-IDRI_annotation\"\n",
    "\n",
    "anno_names = os.listdir(LIDC_IDRI_anno_path)\n",
    "for idx, name in enumerate(anno_names):\n",
    "    anno_names[idx]=name.split(\".nii.gz\")[0]"
   ]
  },
  {
   "cell_type": "code",
   "execution_count": null,
   "id": "6e62eb6a",
   "metadata": {},
   "outputs": [],
   "source": [
    "LIDC_IDRI_all_raw_img_dict = {}\n",
    "for case in os.listdir(LIDC_IDRI_raw_path):\n",
    "    for name_1 in os.listdir(LIDC_IDRI_raw_path+\"/\"+case):\n",
    "        for name_2 in os.listdir(LIDC_IDRI_raw_path+\"/\"+case+\"/\"+name_1):\n",
    "            img_names = os.listdir(LIDC_IDRI_raw_path+\"/\"+case+\"/\"+name_1+\"/\"+name_2)\n",
    "            img_names.sort()\n",
    "            if len(img_names)>10:\n",
    "                LIDC_IDRI_all_raw_img_dict[case.split(\"-\")[2]] = []\n",
    "                for slice_name in img_names:\n",
    "                    if slice_name.split(\".\")[1]==\"dcm\":\n",
    "                        LIDC_IDRI_all_raw_img_dict[case.split(\"-\")[2]].append(LIDC_IDRI_raw_path+\"/\"+case+\"/\"+name_1+\"/\"+name_2+\"/\"+slice_name)"
   ]
  },
  {
   "cell_type": "code",
   "execution_count": null,
   "id": "45ad5639",
   "metadata": {
    "scrolled": true
   },
   "outputs": [],
   "source": [
    "LIDC_IDRI_annotated = {}\n",
    "LIDC_IDRI_annotation_path = LIDC_IDRI_anno_path\n",
    "\n",
    "for case in os.listdir(LIDC_IDRI_raw_path):\n",
    "    for name_1 in os.listdir(LIDC_IDRI_raw_path+\"/\"+case):\n",
    "        for name_2 in os.listdir(LIDC_IDRI_raw_path+\"/\"+case+\"/\"+name_1):\n",
    "            if name_2 in anno_names:\n",
    "                print(LIDC_IDRI_raw_path+\"/\"+case+\"/\"+name_1+\"/\"+name_2)\n",
    "                img_names = os.listdir(LIDC_IDRI_raw_path+\"/\"+case+\"/\"+name_1+\"/\"+name_2)\n",
    "                img_names.sort()\n",
    "                LIDC_IDRI_annotated[case.split(\"-\")[2]] = {}\n",
    "                LIDC_IDRI_annotated[case.split(\"-\")[2]][\"image\"] = []\n",
    "                LIDC_IDRI_annotated[case.split(\"-\")[2]][\"label\"] = LIDC_IDRI_annotation_path+\"/\"+name_2+\".nii.gz\"\n",
    "                for slice_name in img_names:\n",
    "                    if slice_name.split(\".\")[1]==\"dcm\":\n",
    "                        LIDC_IDRI_annotated[case.split(\"-\")[2]][\"image\"].append(LIDC_IDRI_raw_path+\"/\"+case+\"/\"+name_1+\"/\"+name_2+\"/\"+slice_name)"
   ]
  },
  {
   "cell_type": "code",
   "execution_count": null,
   "id": "d32983d1",
   "metadata": {},
   "outputs": [],
   "source": [
    "### show the info of dcm\n",
    "for case in LIDC_IDRI_annotated.keys():\n",
    "    print(case, end=\"\\n\")\n",
    "    dicom_file = pydicom.dcmread(LIDC_IDRI_annotated[case][\"image\"][0])\n",
    "    keys = list(dicom_file.keys())\n",
    "    for idx, key in enumerate(keys):\n",
    "        if str(key) == \"(0028, 0030)\":\n",
    "            i = idx\n",
    "            break\n",
    "    print(dicom_file[list(dicom_file.keys())[i]])\n",
    "    print(\"----------\")"
   ]
  },
  {
   "attachments": {},
   "cell_type": "markdown",
   "id": "955162fe",
   "metadata": {},
   "source": [
    "Save the images and annotations"
   ]
  },
  {
   "cell_type": "code",
   "execution_count": null,
   "id": "eeda4e54",
   "metadata": {},
   "outputs": [],
   "source": [
    "\n",
    "output_image_path = \"LIDC-IDRI/image\"\n",
    "output_label_path = \"LIDC-IDRI/label\"\n",
    "\n",
    "\n",
    "if not os.path.exists(output_image_path):\n",
    "    os.makedirs(output_image_path)\n",
    "\n",
    "if not os.path.exists(output_label_path):\n",
    "    os.makedirs(output_label_path)\n",
    "\n",
    "for case in LIDC_IDRI_annotated.keys():\n",
    "    img_3d = get_3d_img_for_one_case(LIDC_IDRI_annotated[case][\"image\"])\n",
    "    sitk.WriteImage(sitk.GetImageFromArray(img_3d),\n",
    "                    output_image_path+\"/\"+case+\".nii.gz\")\n",
    "    img_label_arr, _, _, _ = loadFile(LIDC_IDRI_annotated[case][\"label\"])\n",
    "    sitk.WriteImage(sitk.GetImageFromArray(img_label_arr),\n",
    "                    output_label_path+\"/\"+case+'.nii.gz')"
   ]
  },
  {
   "cell_type": "code",
   "execution_count": null,
   "id": "f738097b",
   "metadata": {},
   "outputs": [],
   "source": []
  }
 ],
 "metadata": {
  "kernelspec": {
   "display_name": "Python 3 (ipykernel)",
   "language": "python",
   "name": "python3"
  },
  "language_info": {
   "codemirror_mode": {
    "name": "ipython",
    "version": 3
   },
   "file_extension": ".py",
   "mimetype": "text/x-python",
   "name": "python",
   "nbconvert_exporter": "python",
   "pygments_lexer": "ipython3",
   "version": "3.9.7"
  }
 },
 "nbformat": 4,
 "nbformat_minor": 5
}
