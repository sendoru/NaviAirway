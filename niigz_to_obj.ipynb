{
 "cells": [
  {
   "cell_type": "code",
   "execution_count": 1,
   "metadata": {},
   "outputs": [],
   "source": [
    "%matplotlib inline\n",
    "import numpy as np\n",
    "import torch\n",
    "import copy\n",
    "import pandas as pd\n",
    "import SimpleITK as sitk\n",
    "from PIL import Image\n",
    "import pydicom\n",
    "import cv2\n",
    "import nibabel as nib\n",
    "import os\n",
    "import skimage.io as io\n",
    "\n",
    "import matplotlib as mpl\n",
    "import matplotlib.pyplot as plt\n",
    "import plotly.graph_objects as go\n",
    "import plotly.express as px\n",
    "\n",
    "from func.model_arch import SegAirwayModel\n",
    "from func.model_run import get_image_and_label, get_crop_of_image_and_label_within_the_range_of_airway_foreground, \\\n",
    "semantic_segment_crop_and_cat, dice_accuracy\n",
    "from func.post_process import post_process, add_broken_parts_to_the_result, find_end_point_of_the_airway_centerline, \\\n",
    "get_super_vox, Cluster_super_vox, delete_fragments, get_outlayer_of_a_3d_shape, get_crop_by_pixel_val, fill_inner_hole\n",
    "from func.detect_tree import tree_detection\n",
    "from func.ulti import save_obj, load_obj, get_and_save_3d_img_for_one_case,load_one_CT_img, \\\n",
    "get_df_of_centerline, get_df_of_line_of_centerline\n",
    "from func.points_to_mesh import produce_3d_obj\n",
    "from skimage.measure import label"
   ]
  },
  {
   "cell_type": "code",
   "execution_count": 2,
   "metadata": {},
   "outputs": [],
   "source": [
    "file_name = 'results/segmentation_real_data_with_new_postprocess_2/orig_segment/00006185_20220524182436_segmentation.nii.gz'\n",
    "img = sitk.ReadImage(file_name)\n",
    "img_array = sitk.GetArrayFromImage(img)\n",
    "save_path = 'results/fuck.obj'"
   ]
  },
  {
   "cell_type": "code",
   "execution_count": 3,
   "metadata": {},
   "outputs": [],
   "source": [
    "img = sitk.ReadImage(file_name)\n",
    "img_array = sitk.GetArrayFromImage(img)"
   ]
  },
  {
   "cell_type": "code",
   "execution_count": 4,
   "metadata": {},
   "outputs": [],
   "source": [
    "# produce_3d_obj(img_array, save_path)"
   ]
  },
  {
   "cell_type": "code",
   "execution_count": 5,
   "metadata": {},
   "outputs": [
    {
     "name": "stdout",
     "output_type": "stream",
     "text": [
      "number of CC (connectivity=1): 1\n",
      "number of CC (connectivity=2): 1\n",
      "number of CC (connectivity=3): 1\n"
     ]
    }
   ],
   "source": [
    "_, cc_num = label(img_array, return_num=True, connectivity=1)\n",
    "print(f\"number of CC (connectivity=1): {cc_num}\")\n",
    "_, cc_num = label(img_array, return_num=True, connectivity=2)\n",
    "print(f\"number of CC (connectivity=2): {cc_num}\")\n",
    "_, cc_num = label(img_array, return_num=True, connectivity=3)\n",
    "print(f\"number of CC (connectivity=3): {cc_num}\")"
   ]
  },
  {
   "cell_type": "code",
   "execution_count": null,
   "metadata": {},
   "outputs": [],
   "source": []
  }
 ],
 "metadata": {
  "kernelspec": {
   "display_name": "Python 3",
   "language": "python",
   "name": "python3"
  },
  "language_info": {
   "codemirror_mode": {
    "name": "ipython",
    "version": 3
   },
   "file_extension": ".py",
   "mimetype": "text/x-python",
   "name": "python",
   "nbconvert_exporter": "python",
   "pygments_lexer": "ipython3",
   "version": "3.9.7"
  },
  "orig_nbformat": 4
 },
 "nbformat": 4,
 "nbformat_minor": 2
}
